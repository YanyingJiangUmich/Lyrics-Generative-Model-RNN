{
 "cells": [
  {
   "cell_type": "code",
   "execution_count": 35,
   "metadata": {},
   "outputs": [],
   "source": [
    "# imports \n",
    "import pandas as pd\n",
    "import numpy as np\n",
    "from sklearn.feature_extraction.text import CountVectorizer, TfidfVectorizer\n",
    "from sklearn.cluster import KMeans\n",
    "\n",
    "from yellowbrick.cluster import KElbowVisualizer, SilhouetteVisualizer\n",
    "from yellowbrick.text import TSNEVisualizer\n",
    "import matplotlib.pyplot as plt\n",
    "from matplotlib import rcParams\n",
    "import seaborn as sns\n",
    "\n",
    "plt.style.use('ggplot')\n",
    "rcParams['figure.figsize'] = (12,6)"
   ]
  },
  {
   "attachments": {},
   "cell_type": "markdown",
   "metadata": {},
   "source": [
    "#### Prepare"
   ]
  },
  {
   "cell_type": "code",
   "execution_count": 36,
   "metadata": {},
   "outputs": [],
   "source": [
    "data_dir = ''"
   ]
  },
  {
   "cell_type": "code",
   "execution_count": 37,
   "metadata": {},
   "outputs": [],
   "source": [
    "# load data\n",
    "lyrics = pd.read_csv(data_dir + 'clean_lyrics_df.csv')\n",
    "artist = pd.read_csv(data_dir + 'artists-data.csv')\n",
    "\n",
    "lyrics['ALink'] = lyrics['ALink'].apply(lambda x: f'/{x.replace(\" \",\"-\")}/')\n",
    "\n",
    "df = lyrics.merge(artist, left_on='ALink', right_on='Link')\n",
    "df.drop(df[df['language']!='en'].index, inplace=True)\n",
    "df.drop(['ALink','SLink','Link','language'], axis=1, inplace=True)\n",
    "df.rename(columns={'SName': 'Title'}, inplace=True)"
   ]
  },
  {
   "attachments": {},
   "cell_type": "markdown",
   "metadata": {},
   "source": [
    "#### Explore"
   ]
  },
  {
   "attachments": {},
   "cell_type": "markdown",
   "metadata": {},
   "source": [
    "Holistic Exploration"
   ]
  },
  {
   "cell_type": "code",
   "execution_count": 38,
   "metadata": {},
   "outputs": [
    {
     "data": {
      "text/html": [
       "<div>\n",
       "<style scoped>\n",
       "    .dataframe tbody tr th:only-of-type {\n",
       "        vertical-align: middle;\n",
       "    }\n",
       "\n",
       "    .dataframe tbody tr th {\n",
       "        vertical-align: top;\n",
       "    }\n",
       "\n",
       "    .dataframe thead th {\n",
       "        text-align: right;\n",
       "    }\n",
       "</style>\n",
       "<table border=\"1\" class=\"dataframe\">\n",
       "  <thead>\n",
       "    <tr style=\"text-align: right;\">\n",
       "      <th></th>\n",
       "      <th>Title</th>\n",
       "      <th>Lyric</th>\n",
       "      <th>Artist</th>\n",
       "      <th>Genres</th>\n",
       "      <th>Songs</th>\n",
       "      <th>Popularity</th>\n",
       "    </tr>\n",
       "  </thead>\n",
       "  <tbody>\n",
       "    <tr>\n",
       "      <th>0</th>\n",
       "      <td>In da Club</td>\n",
       "      <td>go, go, go, go\\ngo, go, go shawty\\nit's your b...</td>\n",
       "      <td>50 Cent</td>\n",
       "      <td>Hip Hop; Rap; Black Music</td>\n",
       "      <td>469.0</td>\n",
       "      <td>40.7</td>\n",
       "    </tr>\n",
       "    <tr>\n",
       "      <th>1</th>\n",
       "      <td>21 Questions</td>\n",
       "      <td>new york city!\\nyou are now rapping...with 50 ...</td>\n",
       "      <td>50 Cent</td>\n",
       "      <td>Hip Hop; Rap; Black Music</td>\n",
       "      <td>469.0</td>\n",
       "      <td>40.7</td>\n",
       "    </tr>\n",
       "    <tr>\n",
       "      <th>2</th>\n",
       "      <td>P.I.M.P.</td>\n",
       "      <td>i don't know what you heard about me\\nbut a b*...</td>\n",
       "      <td>50 Cent</td>\n",
       "      <td>Hip Hop; Rap; Black Music</td>\n",
       "      <td>469.0</td>\n",
       "      <td>40.7</td>\n",
       "    </tr>\n",
       "    <tr>\n",
       "      <th>3</th>\n",
       "      <td>Many Men (Wish Death)</td>\n",
       "      <td>man we gotta go get something to eat man\\ni'm ...</td>\n",
       "      <td>50 Cent</td>\n",
       "      <td>Hip Hop; Rap; Black Music</td>\n",
       "      <td>469.0</td>\n",
       "      <td>40.7</td>\n",
       "    </tr>\n",
       "    <tr>\n",
       "      <th>4</th>\n",
       "      <td>Candy Shop</td>\n",
       "      <td>yeah...\\nuh huh\\nso seductive\\ni'll take you t...</td>\n",
       "      <td>50 Cent</td>\n",
       "      <td>Hip Hop; Rap; Black Music</td>\n",
       "      <td>469.0</td>\n",
       "      <td>40.7</td>\n",
       "    </tr>\n",
       "  </tbody>\n",
       "</table>\n",
       "</div>"
      ],
      "text/plain": [
       "                   Title                                              Lyric  \\\n",
       "0             In da Club  go, go, go, go\\ngo, go, go shawty\\nit's your b...   \n",
       "1           21 Questions  new york city!\\nyou are now rapping...with 50 ...   \n",
       "2               P.I.M.P.  i don't know what you heard about me\\nbut a b*...   \n",
       "3  Many Men (Wish Death)  man we gotta go get something to eat man\\ni'm ...   \n",
       "4             Candy Shop  yeah...\\nuh huh\\nso seductive\\ni'll take you t...   \n",
       "\n",
       "    Artist                     Genres  Songs  Popularity  \n",
       "0  50 Cent  Hip Hop; Rap; Black Music  469.0        40.7  \n",
       "1  50 Cent  Hip Hop; Rap; Black Music  469.0        40.7  \n",
       "2  50 Cent  Hip Hop; Rap; Black Music  469.0        40.7  \n",
       "3  50 Cent  Hip Hop; Rap; Black Music  469.0        40.7  \n",
       "4  50 Cent  Hip Hop; Rap; Black Music  469.0        40.7  "
      ]
     },
     "execution_count": 38,
     "metadata": {},
     "output_type": "execute_result"
    }
   ],
   "source": [
    "df.head()"
   ]
  },
  {
   "cell_type": "code",
   "execution_count": 39,
   "metadata": {},
   "outputs": [
    {
     "data": {
      "text/html": [
       "<div>\n",
       "<style scoped>\n",
       "    .dataframe tbody tr th:only-of-type {\n",
       "        vertical-align: middle;\n",
       "    }\n",
       "\n",
       "    .dataframe tbody tr th {\n",
       "        vertical-align: top;\n",
       "    }\n",
       "\n",
       "    .dataframe thead th {\n",
       "        text-align: right;\n",
       "    }\n",
       "</style>\n",
       "<table border=\"1\" class=\"dataframe\">\n",
       "  <thead>\n",
       "    <tr style=\"text-align: right;\">\n",
       "      <th></th>\n",
       "      <th>Title</th>\n",
       "      <th>Lyric</th>\n",
       "      <th>Artist</th>\n",
       "      <th>Genres</th>\n",
       "      <th>Songs</th>\n",
       "      <th>Popularity</th>\n",
       "    </tr>\n",
       "  </thead>\n",
       "  <tbody>\n",
       "    <tr>\n",
       "      <th>13942</th>\n",
       "      <td>You Oughta Be Home With Me</td>\n",
       "      <td>everybody's here, spinnin' the bottle\\neverybo...</td>\n",
       "      <td>Barry Manilow</td>\n",
       "      <td>Romântico</td>\n",
       "      <td>330.0</td>\n",
       "      <td>0.0</td>\n",
       "    </tr>\n",
       "    <tr>\n",
       "      <th>13943</th>\n",
       "      <td>You're Leaving Too Soon</td>\n",
       "      <td>you're leavin' too soon\\nyou oughta try believ...</td>\n",
       "      <td>Barry Manilow</td>\n",
       "      <td>Romântico</td>\n",
       "      <td>330.0</td>\n",
       "      <td>0.0</td>\n",
       "    </tr>\n",
       "    <tr>\n",
       "      <th>13944</th>\n",
       "      <td>You're Looking Hot Tonight</td>\n",
       "      <td>you're looking hot tonight\\nbarry manilow\\nby:...</td>\n",
       "      <td>Barry Manilow</td>\n",
       "      <td>Romântico</td>\n",
       "      <td>330.0</td>\n",
       "      <td>0.0</td>\n",
       "    </tr>\n",
       "    <tr>\n",
       "      <th>13945</th>\n",
       "      <td>You're There</td>\n",
       "      <td>our friends all use the past tense when they s...</td>\n",
       "      <td>Barry Manilow</td>\n",
       "      <td>Romântico</td>\n",
       "      <td>330.0</td>\n",
       "      <td>0.0</td>\n",
       "    </tr>\n",
       "    <tr>\n",
       "      <th>13946</th>\n",
       "      <td>Young At Heart</td>\n",
       "      <td>fairy tales can come true, it can happen to yo...</td>\n",
       "      <td>Barry Manilow</td>\n",
       "      <td>Romântico</td>\n",
       "      <td>330.0</td>\n",
       "      <td>0.0</td>\n",
       "    </tr>\n",
       "  </tbody>\n",
       "</table>\n",
       "</div>"
      ],
      "text/plain": [
       "                            Title  \\\n",
       "13942  You Oughta Be Home With Me   \n",
       "13943     You're Leaving Too Soon   \n",
       "13944  You're Looking Hot Tonight   \n",
       "13945                You're There   \n",
       "13946              Young At Heart   \n",
       "\n",
       "                                                   Lyric         Artist  \\\n",
       "13942  everybody's here, spinnin' the bottle\\neverybo...  Barry Manilow   \n",
       "13943  you're leavin' too soon\\nyou oughta try believ...  Barry Manilow   \n",
       "13944  you're looking hot tonight\\nbarry manilow\\nby:...  Barry Manilow   \n",
       "13945  our friends all use the past tense when they s...  Barry Manilow   \n",
       "13946  fairy tales can come true, it can happen to yo...  Barry Manilow   \n",
       "\n",
       "          Genres  Songs  Popularity  \n",
       "13942  Romântico  330.0         0.0  \n",
       "13943  Romântico  330.0         0.0  \n",
       "13944  Romântico  330.0         0.0  \n",
       "13945  Romântico  330.0         0.0  \n",
       "13946  Romântico  330.0         0.0  "
      ]
     },
     "execution_count": 39,
     "metadata": {},
     "output_type": "execute_result"
    }
   ],
   "source": [
    "df.tail()"
   ]
  },
  {
   "cell_type": "code",
   "execution_count": 40,
   "metadata": {},
   "outputs": [
    {
     "data": {
      "text/plain": [
       "(13947, 6)"
      ]
     },
     "execution_count": 40,
     "metadata": {},
     "output_type": "execute_result"
    }
   ],
   "source": [
    "df.shape"
   ]
  },
  {
   "cell_type": "code",
   "execution_count": 41,
   "metadata": {},
   "outputs": [
    {
     "data": {
      "text/html": [
       "<div>\n",
       "<style scoped>\n",
       "    .dataframe tbody tr th:only-of-type {\n",
       "        vertical-align: middle;\n",
       "    }\n",
       "\n",
       "    .dataframe tbody tr th {\n",
       "        vertical-align: top;\n",
       "    }\n",
       "\n",
       "    .dataframe thead th {\n",
       "        text-align: right;\n",
       "    }\n",
       "</style>\n",
       "<table border=\"1\" class=\"dataframe\">\n",
       "  <thead>\n",
       "    <tr style=\"text-align: right;\">\n",
       "      <th></th>\n",
       "      <th>Title</th>\n",
       "      <th>Lyric</th>\n",
       "      <th>Artist</th>\n",
       "      <th>Genres</th>\n",
       "      <th>Songs</th>\n",
       "      <th>Popularity</th>\n",
       "    </tr>\n",
       "  </thead>\n",
       "  <tbody>\n",
       "    <tr>\n",
       "      <th>count</th>\n",
       "      <td>13947</td>\n",
       "      <td>13947</td>\n",
       "      <td>13947</td>\n",
       "      <td>13947</td>\n",
       "      <td>13947.000000</td>\n",
       "      <td>13947.000000</td>\n",
       "    </tr>\n",
       "    <tr>\n",
       "      <th>unique</th>\n",
       "      <td>12897</td>\n",
       "      <td>13947</td>\n",
       "      <td>32</td>\n",
       "      <td>28</td>\n",
       "      <td>NaN</td>\n",
       "      <td>NaN</td>\n",
       "    </tr>\n",
       "    <tr>\n",
       "      <th>top</th>\n",
       "      <td>White Christmas</td>\n",
       "      <td>soon, my dear, you'll never be lonely,\\nsoon, ...</td>\n",
       "      <td>Frank Sinatra</td>\n",
       "      <td>Country</td>\n",
       "      <td>NaN</td>\n",
       "      <td>NaN</td>\n",
       "    </tr>\n",
       "    <tr>\n",
       "      <th>freq</th>\n",
       "      <td>9</td>\n",
       "      <td>1</td>\n",
       "      <td>798</td>\n",
       "      <td>1436</td>\n",
       "      <td>NaN</td>\n",
       "      <td>NaN</td>\n",
       "    </tr>\n",
       "    <tr>\n",
       "      <th>mean</th>\n",
       "      <td>NaN</td>\n",
       "      <td>NaN</td>\n",
       "      <td>NaN</td>\n",
       "      <td>NaN</td>\n",
       "      <td>515.140030</td>\n",
       "      <td>12.947637</td>\n",
       "    </tr>\n",
       "    <tr>\n",
       "      <th>std</th>\n",
       "      <td>NaN</td>\n",
       "      <td>NaN</td>\n",
       "      <td>NaN</td>\n",
       "      <td>NaN</td>\n",
       "      <td>151.378789</td>\n",
       "      <td>22.763154</td>\n",
       "    </tr>\n",
       "    <tr>\n",
       "      <th>min</th>\n",
       "      <td>NaN</td>\n",
       "      <td>NaN</td>\n",
       "      <td>NaN</td>\n",
       "      <td>NaN</td>\n",
       "      <td>323.000000</td>\n",
       "      <td>0.000000</td>\n",
       "    </tr>\n",
       "    <tr>\n",
       "      <th>25%</th>\n",
       "      <td>NaN</td>\n",
       "      <td>NaN</td>\n",
       "      <td>NaN</td>\n",
       "      <td>NaN</td>\n",
       "      <td>378.000000</td>\n",
       "      <td>1.300000</td>\n",
       "    </tr>\n",
       "    <tr>\n",
       "      <th>50%</th>\n",
       "      <td>NaN</td>\n",
       "      <td>NaN</td>\n",
       "      <td>NaN</td>\n",
       "      <td>NaN</td>\n",
       "      <td>505.000000</td>\n",
       "      <td>3.300000</td>\n",
       "    </tr>\n",
       "    <tr>\n",
       "      <th>75%</th>\n",
       "      <td>NaN</td>\n",
       "      <td>NaN</td>\n",
       "      <td>NaN</td>\n",
       "      <td>NaN</td>\n",
       "      <td>621.000000</td>\n",
       "      <td>14.100000</td>\n",
       "    </tr>\n",
       "    <tr>\n",
       "      <th>max</th>\n",
       "      <td>NaN</td>\n",
       "      <td>NaN</td>\n",
       "      <td>NaN</td>\n",
       "      <td>NaN</td>\n",
       "      <td>828.000000</td>\n",
       "      <td>114.900000</td>\n",
       "    </tr>\n",
       "  </tbody>\n",
       "</table>\n",
       "</div>"
      ],
      "text/plain": [
       "                  Title                                              Lyric  \\\n",
       "count             13947                                              13947   \n",
       "unique            12897                                              13947   \n",
       "top     White Christmas  soon, my dear, you'll never be lonely,\\nsoon, ...   \n",
       "freq                  9                                                  1   \n",
       "mean                NaN                                                NaN   \n",
       "std                 NaN                                                NaN   \n",
       "min                 NaN                                                NaN   \n",
       "25%                 NaN                                                NaN   \n",
       "50%                 NaN                                                NaN   \n",
       "75%                 NaN                                                NaN   \n",
       "max                 NaN                                                NaN   \n",
       "\n",
       "               Artist   Genres         Songs    Popularity  \n",
       "count           13947    13947  13947.000000  13947.000000  \n",
       "unique             32       28           NaN           NaN  \n",
       "top     Frank Sinatra  Country           NaN           NaN  \n",
       "freq              798     1436           NaN           NaN  \n",
       "mean              NaN      NaN    515.140030     12.947637  \n",
       "std               NaN      NaN    151.378789     22.763154  \n",
       "min               NaN      NaN    323.000000      0.000000  \n",
       "25%               NaN      NaN    378.000000      1.300000  \n",
       "50%               NaN      NaN    505.000000      3.300000  \n",
       "75%               NaN      NaN    621.000000     14.100000  \n",
       "max               NaN      NaN    828.000000    114.900000  "
      ]
     },
     "execution_count": 41,
     "metadata": {},
     "output_type": "execute_result"
    }
   ],
   "source": [
    "df.describe(include='all')"
   ]
  },
  {
   "attachments": {},
   "cell_type": "markdown",
   "metadata": {},
   "source": [
    "- Titles recur, but this is expected given covers, rewrites, and generic titles"
   ]
  },
  {
   "cell_type": "code",
   "execution_count": 42,
   "metadata": {},
   "outputs": [
    {
     "data": {
      "text/plain": [
       "(13947, 6)"
      ]
     },
     "execution_count": 42,
     "metadata": {},
     "output_type": "execute_result"
    }
   ],
   "source": [
    "df.drop_duplicates(subset='Lyric', keep=False, inplace=True)\n",
    "df.shape"
   ]
  },
  {
   "cell_type": "code",
   "execution_count": 43,
   "metadata": {},
   "outputs": [
    {
     "name": "stdout",
     "output_type": "stream",
     "text": [
      "<class 'pandas.core.frame.DataFrame'>\n",
      "Int64Index: 13947 entries, 0 to 13946\n",
      "Data columns (total 6 columns):\n",
      " #   Column      Non-Null Count  Dtype  \n",
      "---  ------      --------------  -----  \n",
      " 0   Title       13947 non-null  object \n",
      " 1   Lyric       13947 non-null  object \n",
      " 2   Artist      13947 non-null  object \n",
      " 3   Genres      13947 non-null  object \n",
      " 4   Songs       13947 non-null  float64\n",
      " 5   Popularity  13947 non-null  float64\n",
      "dtypes: float64(2), object(4)\n",
      "memory usage: 762.7+ KB\n"
     ]
    }
   ],
   "source": [
    "df.info()"
   ]
  },
  {
   "attachments": {},
   "cell_type": "markdown",
   "metadata": {},
   "source": [
    "Individual Variable Exploration"
   ]
  },
  {
   "cell_type": "code",
   "execution_count": 44,
   "metadata": {},
   "outputs": [
    {
     "data": {
      "text/plain": [
       "Country                         0.102961\n",
       "Hip Hop; Rap; Black Music       0.081308\n",
       "Jazz; Clássico; Romântico       0.057217\n",
       "Rockabilly; Romântico; Rock     0.053345\n",
       "Indie                           0.043594\n",
       "R&B; Black Music; Funk          0.039865\n",
       "R&B; Black Music; Rap           0.039077\n",
       "Folk; Rock; Country             0.038790\n",
       "Folk; Country; Rock             0.038575\n",
       "Country; Folk                   0.038073\n",
       "Rock; Folk                      0.036639\n",
       "Rock                            0.035850\n",
       "Rap; Hip Hop; Pop               0.034488\n",
       "Rockabilly                      0.031190\n",
       "Hip Hop; Rap                    0.028178\n",
       "Jazz                            0.028106\n",
       "Blues                           0.026457\n",
       "Hard Rock; Rock; Pop/Rock       0.026171\n",
       "Pop; Romântico; Pop/Rock        0.025812\n",
       "R&B; Soul Music; Disco          0.024952\n",
       "Dance; Pop                      0.024593\n",
       "Surf Music; Rock                0.023661\n",
       "Romântico                       0.023518\n",
       "Rock; Hard Rock; Heavy Metal    0.023303\n",
       "Indie; Rock                     0.022729\n",
       "Soul Music; R&B                 0.021438\n",
       "Rap                             0.020004\n",
       "Country; Black Music            0.010110\n",
       "Name: Genres, dtype: float64"
      ]
     },
     "execution_count": 44,
     "metadata": {},
     "output_type": "execute_result"
    }
   ],
   "source": [
    "df['Genres'].value_counts(normalize=True)"
   ]
  },
  {
   "attachments": {},
   "cell_type": "markdown",
   "metadata": {},
   "source": [
    "- Subgenres occur within several genre 'sets'"
   ]
  },
  {
   "cell_type": "code",
   "execution_count": 45,
   "metadata": {},
   "outputs": [
    {
     "data": {
      "text/plain": [
       "count    13947.000000\n",
       "mean       515.140030\n",
       "std        151.378789\n",
       "min        323.000000\n",
       "25%        378.000000\n",
       "50%        505.000000\n",
       "75%        621.000000\n",
       "max        828.000000\n",
       "Name: Songs, dtype: float64"
      ]
     },
     "execution_count": 45,
     "metadata": {},
     "output_type": "execute_result"
    }
   ],
   "source": [
    "df['Songs'].describe()"
   ]
  },
  {
   "cell_type": "code",
   "execution_count": 46,
   "metadata": {},
   "outputs": [
    {
     "data": {
      "text/plain": [
       "count    13947.000000\n",
       "mean        12.947637\n",
       "std         22.763154\n",
       "min          0.000000\n",
       "25%          1.300000\n",
       "50%          3.300000\n",
       "75%         14.100000\n",
       "max        114.900000\n",
       "Name: Popularity, dtype: float64"
      ]
     },
     "execution_count": 46,
     "metadata": {},
     "output_type": "execute_result"
    }
   ],
   "source": [
    "df['Popularity'].describe()"
   ]
  },
  {
   "attachments": {},
   "cell_type": "markdown",
   "metadata": {},
   "source": [
    "- Popularity varies widely, and the meaning of the values is unclear\n",
    "- Values range from 0 to 114. Normalizing might be prudent"
   ]
  },
  {
   "cell_type": "code",
   "execution_count": 47,
   "metadata": {},
   "outputs": [
    {
     "data": {
      "text/plain": [
       "count    13947.000000\n",
       "mean         0.112686\n",
       "std          0.198113\n",
       "min          0.000000\n",
       "25%          0.011314\n",
       "50%          0.028721\n",
       "75%          0.122715\n",
       "max          1.000000\n",
       "Name: PopNorm, dtype: float64"
      ]
     },
     "execution_count": 47,
     "metadata": {},
     "output_type": "execute_result"
    }
   ],
   "source": [
    "# Normalize popularity\n",
    "df['PopNorm'] = (df['Popularity'] - df['Popularity'].min()) / (df['Popularity'].max() - df['Popularity'].min())\n",
    "df['PopNorm'].describe()"
   ]
  },
  {
   "attachments": {},
   "cell_type": "markdown",
   "metadata": {},
   "source": [
    "Bivariate Exploration"
   ]
  },
  {
   "cell_type": "code",
   "execution_count": 48,
   "metadata": {},
   "outputs": [],
   "source": [
    "df['Genre_1'] = df['Genres'].apply(lambda x: x.split(';')[0])\n",
    "top_10_genres = df.groupby('Genre_1')['Title'].count().sort_values(ascending=False).reset_index()['Genre_1'][:10]"
   ]
  },
  {
   "cell_type": "code",
   "execution_count": 49,
   "metadata": {},
   "outputs": [
    {
     "data": {
      "image/png": "[encoded data removed]",
      "text/plain": [
       "<Figure size 750x500 with 1 Axes>"
      ]
     },
     "metadata": {},
     "output_type": "display_data"
    },
    {
     "name": "stdout",
     "output_type": "stream",
     "text": [
      "Not very informative...\n"
     ]
    }
   ],
   "source": [
    "sns.catplot(x='Genre_1', y='PopNorm', data=df[df['Genre_1'].isin(top_10_genres)], kind='box', aspect=1.5)\n",
    "plt.title(\"Popularity by Genre (Top 10 Genres)\")\n",
    "plt.xlabel('First Genre')\n",
    "plt.ylabel('Normalized Popularity')\n",
    "plt.show()\n",
    "print('Not very informative...')"
   ]
  },
  {
   "cell_type": "code",
   "execution_count": 50,
   "metadata": {},
   "outputs": [
    {
     "data": {
      "image/png": "[encoded data removed]",
      "text/plain": [
       "<Figure size 1200x600 with 1 Axes>"
      ]
     },
     "metadata": {},
     "output_type": "display_data"
    }
   ],
   "source": [
    "sns.scatterplot(x=\"Songs\", y=\"PopNorm\", hue=\"Genre_1\", data=df, palette=\"Dark2\", s=80, legend=False)\n",
    "plt.title(\"Relationship between Songs, Popularity, and Genre\")\n",
    "plt.xlabel('Number of Artist\\'s Songs')\n",
    "plt.ylabel('Normalized Popularity')\n",
    "plt.show()"
   ]
  }
 ],
 "metadata": {
  "kernelspec": {
   "display_name": "capstone",
   "language": "python",
   "name": "python3"
  },
  "language_info": {
   "codemirror_mode": {
    "name": "ipython",
    "version": 3
   },
   "file_extension": ".py",
   "mimetype": "text/x-python",
   "name": "python",
   "nbconvert_exporter": "python",
   "pygments_lexer": "ipython3",
   "version": "3.7.16"
  },
  "orig_nbformat": 4,
  "vscode": {
   "interpreter": {
    "hash": "fe1c14c554fa002d16476f43cdef49f3e8d620af804575f2ed0121fe64dd2e36"
   }
  }
 },
 "nbformat": 4,
 "nbformat_minor": 2
}
