{
 "cells": [
  {
   "cell_type": "code",
   "execution_count": 84,
   "metadata": {},
   "outputs": [],
   "source": [
    "# imports \n",
    "import pandas as pd\n",
    "import numpy as np\n",
    "from sklearn.feature_extraction.text import CountVectorizer\n",
    "from sklearn.cluster import KMeans\n",
    "\n",
    "from yellowbrick.cluster import KElbowVisualizer, SilhouetteVisualizer\n",
    "from yellowbrick.text import TSNEVisualizer\n",
    "import matplotlib.pyplot as plt\n",
    "from matplotlib import rcParams\n",
    "import seaborn as sns\n",
    "\n",
    "plt.style.use('ggplot')\n",
    "rcParams['figure.figsize'] = (12,6)"
   ]
  },
  {
   "attachments": {},
   "cell_type": "markdown",
   "metadata": {},
   "source": [
    "#### Prepare"
   ]
  },
  {
   "cell_type": "code",
   "execution_count": 52,
   "metadata": {},
   "outputs": [
    {
     "data": {
      "text/html": [
       "<div>\n",
       "<style scoped>\n",
       "    .dataframe tbody tr th:only-of-type {\n",
       "        vertical-align: middle;\n",
       "    }\n",
       "\n",
       "    .dataframe tbody tr th {\n",
       "        vertical-align: top;\n",
       "    }\n",
       "\n",
       "    .dataframe thead th {\n",
       "        text-align: right;\n",
       "    }\n",
       "</style>\n",
       "<table border=\"1\" class=\"dataframe\">\n",
       "  <thead>\n",
       "    <tr style=\"text-align: right;\">\n",
       "      <th></th>\n",
       "      <th>Title</th>\n",
       "      <th>Lyric</th>\n",
       "      <th>Artist</th>\n",
       "      <th>Genres</th>\n",
       "      <th>Songs</th>\n",
       "      <th>Popularity</th>\n",
       "    </tr>\n",
       "  </thead>\n",
       "  <tbody>\n",
       "    <tr>\n",
       "      <th>0</th>\n",
       "      <td>In da Club</td>\n",
       "      <td>go, go, go, go\\ngo, go, go shawty\\nit's your b...</td>\n",
       "      <td>50 Cent</td>\n",
       "      <td>Hip Hop; Rap; Black Music</td>\n",
       "      <td>469.0</td>\n",
       "      <td>40.7</td>\n",
       "    </tr>\n",
       "    <tr>\n",
       "      <th>1</th>\n",
       "      <td>21 Questions</td>\n",
       "      <td>new york city!\\nyou are now rapping...with 50 ...</td>\n",
       "      <td>50 Cent</td>\n",
       "      <td>Hip Hop; Rap; Black Music</td>\n",
       "      <td>469.0</td>\n",
       "      <td>40.7</td>\n",
       "    </tr>\n",
       "    <tr>\n",
       "      <th>2</th>\n",
       "      <td>P.I.M.P.</td>\n",
       "      <td>i don't know what you heard about me\\nbut a b*...</td>\n",
       "      <td>50 Cent</td>\n",
       "      <td>Hip Hop; Rap; Black Music</td>\n",
       "      <td>469.0</td>\n",
       "      <td>40.7</td>\n",
       "    </tr>\n",
       "    <tr>\n",
       "      <th>3</th>\n",
       "      <td>Many Men (Wish Death)</td>\n",
       "      <td>man we gotta go get something to eat man\\ni'm ...</td>\n",
       "      <td>50 Cent</td>\n",
       "      <td>Hip Hop; Rap; Black Music</td>\n",
       "      <td>469.0</td>\n",
       "      <td>40.7</td>\n",
       "    </tr>\n",
       "    <tr>\n",
       "      <th>4</th>\n",
       "      <td>Candy Shop</td>\n",
       "      <td>yeah...\\nuh huh\\nso seductive\\ni'll take you t...</td>\n",
       "      <td>50 Cent</td>\n",
       "      <td>Hip Hop; Rap; Black Music</td>\n",
       "      <td>469.0</td>\n",
       "      <td>40.7</td>\n",
       "    </tr>\n",
       "  </tbody>\n",
       "</table>\n",
       "</div>"
      ],
      "text/plain": [
       "                   Title                                              Lyric  \\\n",
       "0             In da Club  go, go, go, go\\ngo, go, go shawty\\nit's your b...   \n",
       "1           21 Questions  new york city!\\nyou are now rapping...with 50 ...   \n",
       "2               P.I.M.P.  i don't know what you heard about me\\nbut a b*...   \n",
       "3  Many Men (Wish Death)  man we gotta go get something to eat man\\ni'm ...   \n",
       "4             Candy Shop  yeah...\\nuh huh\\nso seductive\\ni'll take you t...   \n",
       "\n",
       "    Artist                     Genres  Songs  Popularity  \n",
       "0  50 Cent  Hip Hop; Rap; Black Music  469.0        40.7  \n",
       "1  50 Cent  Hip Hop; Rap; Black Music  469.0        40.7  \n",
       "2  50 Cent  Hip Hop; Rap; Black Music  469.0        40.7  \n",
       "3  50 Cent  Hip Hop; Rap; Black Music  469.0        40.7  \n",
       "4  50 Cent  Hip Hop; Rap; Black Music  469.0        40.7  "
      ]
     },
     "execution_count": 52,
     "metadata": {},
     "output_type": "execute_result"
    }
   ],
   "source": [
    "# load data\n",
    "lyrics = pd.read_csv('clean_lyrics_df.csv', index_col='Unnamed: 0')\n",
    "artist = pd.read_csv('artists-data.csv')\n",
    "\n",
    "lyrics['ALink'] = lyrics['ALink'].apply(lambda x: f'/{x.replace(\" \",\"-\")}/')\n",
    "\n",
    "df = lyrics.merge(artist, left_on='ALink', right_on='Link')\n",
    "df.drop(df[df['language']!='en'].index, inplace=True)\n",
    "df.drop(['ALink','SLink','Link','language','features'], axis=1, inplace=True)\n",
    "df.rename(columns={'SName': 'Title'}, inplace=True)\n",
    "df.head()"
   ]
  },
  {
   "attachments": {},
   "cell_type": "markdown",
   "metadata": {},
   "source": [
    "#### Explore"
   ]
  },
  {
   "attachments": {},
   "cell_type": "markdown",
   "metadata": {},
   "source": [
    "Holistic Exploration"
   ]
  },
  {
   "cell_type": "code",
   "execution_count": 53,
   "metadata": {},
   "outputs": [
    {
     "data": {
      "text/html": [
       "<div>\n",
       "<style scoped>\n",
       "    .dataframe tbody tr th:only-of-type {\n",
       "        vertical-align: middle;\n",
       "    }\n",
       "\n",
       "    .dataframe tbody tr th {\n",
       "        vertical-align: top;\n",
       "    }\n",
       "\n",
       "    .dataframe thead th {\n",
       "        text-align: right;\n",
       "    }\n",
       "</style>\n",
       "<table border=\"1\" class=\"dataframe\">\n",
       "  <thead>\n",
       "    <tr style=\"text-align: right;\">\n",
       "      <th></th>\n",
       "      <th>Title</th>\n",
       "      <th>Lyric</th>\n",
       "      <th>Artist</th>\n",
       "      <th>Genres</th>\n",
       "      <th>Songs</th>\n",
       "      <th>Popularity</th>\n",
       "    </tr>\n",
       "  </thead>\n",
       "  <tbody>\n",
       "    <tr>\n",
       "      <th>14323</th>\n",
       "      <td>You Oughta Be Home With Me</td>\n",
       "      <td>everybody's here, spinnin' the bottle\\neverybo...</td>\n",
       "      <td>Barry Manilow</td>\n",
       "      <td>Romântico</td>\n",
       "      <td>330.0</td>\n",
       "      <td>0.0</td>\n",
       "    </tr>\n",
       "    <tr>\n",
       "      <th>14324</th>\n",
       "      <td>You're Leaving Too Soon</td>\n",
       "      <td>you're leavin' too soon\\nyou oughta try believ...</td>\n",
       "      <td>Barry Manilow</td>\n",
       "      <td>Romântico</td>\n",
       "      <td>330.0</td>\n",
       "      <td>0.0</td>\n",
       "    </tr>\n",
       "    <tr>\n",
       "      <th>14325</th>\n",
       "      <td>You're Looking Hot Tonight</td>\n",
       "      <td>you're looking hot tonight\\nbarry manilow\\nby:...</td>\n",
       "      <td>Barry Manilow</td>\n",
       "      <td>Romântico</td>\n",
       "      <td>330.0</td>\n",
       "      <td>0.0</td>\n",
       "    </tr>\n",
       "    <tr>\n",
       "      <th>14326</th>\n",
       "      <td>You're There</td>\n",
       "      <td>our friends all use the past tense when they s...</td>\n",
       "      <td>Barry Manilow</td>\n",
       "      <td>Romântico</td>\n",
       "      <td>330.0</td>\n",
       "      <td>0.0</td>\n",
       "    </tr>\n",
       "    <tr>\n",
       "      <th>14327</th>\n",
       "      <td>Young At Heart</td>\n",
       "      <td>fairy tales can come true, it can happen to yo...</td>\n",
       "      <td>Barry Manilow</td>\n",
       "      <td>Romântico</td>\n",
       "      <td>330.0</td>\n",
       "      <td>0.0</td>\n",
       "    </tr>\n",
       "  </tbody>\n",
       "</table>\n",
       "</div>"
      ],
      "text/plain": [
       "                            Title  \\\n",
       "14323  You Oughta Be Home With Me   \n",
       "14324     You're Leaving Too Soon   \n",
       "14325  You're Looking Hot Tonight   \n",
       "14326                You're There   \n",
       "14327              Young At Heart   \n",
       "\n",
       "                                                   Lyric         Artist  \\\n",
       "14323  everybody's here, spinnin' the bottle\\neverybo...  Barry Manilow   \n",
       "14324  you're leavin' too soon\\nyou oughta try believ...  Barry Manilow   \n",
       "14325  you're looking hot tonight\\nbarry manilow\\nby:...  Barry Manilow   \n",
       "14326  our friends all use the past tense when they s...  Barry Manilow   \n",
       "14327  fairy tales can come true, it can happen to yo...  Barry Manilow   \n",
       "\n",
       "          Genres  Songs  Popularity  \n",
       "14323  Romântico  330.0         0.0  \n",
       "14324  Romântico  330.0         0.0  \n",
       "14325  Romântico  330.0         0.0  \n",
       "14326  Romântico  330.0         0.0  \n",
       "14327  Romântico  330.0         0.0  "
      ]
     },
     "execution_count": 53,
     "metadata": {},
     "output_type": "execute_result"
    }
   ],
   "source": [
    "df.tail()"
   ]
  },
  {
   "cell_type": "code",
   "execution_count": 54,
   "metadata": {},
   "outputs": [
    {
     "data": {
      "text/plain": [
       "(14328, 6)"
      ]
     },
     "execution_count": 54,
     "metadata": {},
     "output_type": "execute_result"
    }
   ],
   "source": [
    "df.shape"
   ]
  },
  {
   "cell_type": "code",
   "execution_count": 55,
   "metadata": {},
   "outputs": [
    {
     "data": {
      "text/html": [
       "<div>\n",
       "<style scoped>\n",
       "    .dataframe tbody tr th:only-of-type {\n",
       "        vertical-align: middle;\n",
       "    }\n",
       "\n",
       "    .dataframe tbody tr th {\n",
       "        vertical-align: top;\n",
       "    }\n",
       "\n",
       "    .dataframe thead th {\n",
       "        text-align: right;\n",
       "    }\n",
       "</style>\n",
       "<table border=\"1\" class=\"dataframe\">\n",
       "  <thead>\n",
       "    <tr style=\"text-align: right;\">\n",
       "      <th></th>\n",
       "      <th>Title</th>\n",
       "      <th>Lyric</th>\n",
       "      <th>Artist</th>\n",
       "      <th>Genres</th>\n",
       "      <th>Songs</th>\n",
       "      <th>Popularity</th>\n",
       "    </tr>\n",
       "  </thead>\n",
       "  <tbody>\n",
       "    <tr>\n",
       "      <th>count</th>\n",
       "      <td>14328</td>\n",
       "      <td>14328</td>\n",
       "      <td>14328</td>\n",
       "      <td>14328</td>\n",
       "      <td>14328.000000</td>\n",
       "      <td>14328.000000</td>\n",
       "    </tr>\n",
       "    <tr>\n",
       "      <th>unique</th>\n",
       "      <td>13180</td>\n",
       "      <td>14002</td>\n",
       "      <td>32</td>\n",
       "      <td>28</td>\n",
       "      <td>NaN</td>\n",
       "      <td>NaN</td>\n",
       "    </tr>\n",
       "    <tr>\n",
       "      <th>top</th>\n",
       "      <td>White Christmas</td>\n",
       "      <td>shortcut to part of bill monroe lyrics\\nbill m...</td>\n",
       "      <td>Frank Sinatra</td>\n",
       "      <td>Country</td>\n",
       "      <td>NaN</td>\n",
       "      <td>NaN</td>\n",
       "    </tr>\n",
       "    <tr>\n",
       "      <th>freq</th>\n",
       "      <td>9</td>\n",
       "      <td>41</td>\n",
       "      <td>818</td>\n",
       "      <td>1451</td>\n",
       "      <td>NaN</td>\n",
       "      <td>NaN</td>\n",
       "    </tr>\n",
       "    <tr>\n",
       "      <th>mean</th>\n",
       "      <td>NaN</td>\n",
       "      <td>NaN</td>\n",
       "      <td>NaN</td>\n",
       "      <td>NaN</td>\n",
       "      <td>512.620394</td>\n",
       "      <td>12.696189</td>\n",
       "    </tr>\n",
       "    <tr>\n",
       "      <th>std</th>\n",
       "      <td>NaN</td>\n",
       "      <td>NaN</td>\n",
       "      <td>NaN</td>\n",
       "      <td>NaN</td>\n",
       "      <td>151.695441</td>\n",
       "      <td>22.559706</td>\n",
       "    </tr>\n",
       "    <tr>\n",
       "      <th>min</th>\n",
       "      <td>NaN</td>\n",
       "      <td>NaN</td>\n",
       "      <td>NaN</td>\n",
       "      <td>NaN</td>\n",
       "      <td>323.000000</td>\n",
       "      <td>0.000000</td>\n",
       "    </tr>\n",
       "    <tr>\n",
       "      <th>25%</th>\n",
       "      <td>NaN</td>\n",
       "      <td>NaN</td>\n",
       "      <td>NaN</td>\n",
       "      <td>NaN</td>\n",
       "      <td>376.000000</td>\n",
       "      <td>1.300000</td>\n",
       "    </tr>\n",
       "    <tr>\n",
       "      <th>50%</th>\n",
       "      <td>NaN</td>\n",
       "      <td>NaN</td>\n",
       "      <td>NaN</td>\n",
       "      <td>NaN</td>\n",
       "      <td>494.000000</td>\n",
       "      <td>3.300000</td>\n",
       "    </tr>\n",
       "    <tr>\n",
       "      <th>75%</th>\n",
       "      <td>NaN</td>\n",
       "      <td>NaN</td>\n",
       "      <td>NaN</td>\n",
       "      <td>NaN</td>\n",
       "      <td>621.000000</td>\n",
       "      <td>14.100000</td>\n",
       "    </tr>\n",
       "    <tr>\n",
       "      <th>max</th>\n",
       "      <td>NaN</td>\n",
       "      <td>NaN</td>\n",
       "      <td>NaN</td>\n",
       "      <td>NaN</td>\n",
       "      <td>828.000000</td>\n",
       "      <td>114.900000</td>\n",
       "    </tr>\n",
       "  </tbody>\n",
       "</table>\n",
       "</div>"
      ],
      "text/plain": [
       "                  Title                                              Lyric  \\\n",
       "count             14328                                              14328   \n",
       "unique            13180                                              14002   \n",
       "top     White Christmas  shortcut to part of bill monroe lyrics\\nbill m...   \n",
       "freq                  9                                                 41   \n",
       "mean                NaN                                                NaN   \n",
       "std                 NaN                                                NaN   \n",
       "min                 NaN                                                NaN   \n",
       "25%                 NaN                                                NaN   \n",
       "50%                 NaN                                                NaN   \n",
       "75%                 NaN                                                NaN   \n",
       "max                 NaN                                                NaN   \n",
       "\n",
       "               Artist   Genres         Songs    Popularity  \n",
       "count           14328    14328  14328.000000  14328.000000  \n",
       "unique             32       28           NaN           NaN  \n",
       "top     Frank Sinatra  Country           NaN           NaN  \n",
       "freq              818     1451           NaN           NaN  \n",
       "mean              NaN      NaN    512.620394     12.696189  \n",
       "std               NaN      NaN    151.695441     22.559706  \n",
       "min               NaN      NaN    323.000000      0.000000  \n",
       "25%               NaN      NaN    376.000000      1.300000  \n",
       "50%               NaN      NaN    494.000000      3.300000  \n",
       "75%               NaN      NaN    621.000000     14.100000  \n",
       "max               NaN      NaN    828.000000    114.900000  "
      ]
     },
     "execution_count": 55,
     "metadata": {},
     "output_type": "execute_result"
    }
   ],
   "source": [
    "df.describe(include='all')"
   ]
  },
  {
   "cell_type": "code",
   "execution_count": 56,
   "metadata": {},
   "outputs": [
    {
     "data": {
      "text/plain": [
       "(13870, 6)"
      ]
     },
     "execution_count": 56,
     "metadata": {},
     "output_type": "execute_result"
    }
   ],
   "source": [
    "df.drop_duplicates(subset='Lyric', keep=False, inplace=True)\n",
    "df.shape"
   ]
  },
  {
   "cell_type": "code",
   "execution_count": 57,
   "metadata": {},
   "outputs": [
    {
     "name": "stdout",
     "output_type": "stream",
     "text": [
      "<class 'pandas.core.frame.DataFrame'>\n",
      "Int64Index: 13870 entries, 0 to 14327\n",
      "Data columns (total 6 columns):\n",
      " #   Column      Non-Null Count  Dtype  \n",
      "---  ------      --------------  -----  \n",
      " 0   Title       13870 non-null  object \n",
      " 1   Lyric       13870 non-null  object \n",
      " 2   Artist      13870 non-null  object \n",
      " 3   Genres      13870 non-null  object \n",
      " 4   Songs       13870 non-null  float64\n",
      " 5   Popularity  13870 non-null  float64\n",
      "dtypes: float64(2), object(4)\n",
      "memory usage: 758.5+ KB\n"
     ]
    }
   ],
   "source": [
    "df.info()"
   ]
  },
  {
   "attachments": {},
   "cell_type": "markdown",
   "metadata": {},
   "source": [
    "Individual Variable Exploration"
   ]
  },
  {
   "cell_type": "code",
   "execution_count": 62,
   "metadata": {},
   "outputs": [
    {
     "data": {
      "text/plain": [
       "Country                         0.102740\n",
       "Hip Hop; Rap; Black Music       0.080894\n",
       "Jazz; Clássico; Romântico       0.057390\n",
       "Rockabilly; Romântico; Rock     0.053569\n",
       "Indie                           0.043043\n",
       "R&B; Black Music; Funk          0.040087\n",
       "R&B; Black Music; Rap           0.038933\n",
       "Folk; Rock; Country             0.038861\n",
       "Folk; Country; Rock             0.038572\n",
       "Country; Folk                   0.038284\n",
       "Rock; Folk                      0.036698\n",
       "Rock                            0.035977\n",
       "Rap; Hip Hop; Pop               0.034679\n",
       "Rockabilly                      0.031218\n",
       "Hip Hop; Rap                    0.028335\n",
       "Jazz                            0.028262\n",
       "Blues                           0.026532\n",
       "Hard Rock; Rock; Pop/Rock       0.026316\n",
       "Pop; Romântico; Pop/Rock        0.025883\n",
       "R&B; Soul Music; Disco          0.024946\n",
       "Dance; Pop                      0.024730\n",
       "Romântico                       0.023648\n",
       "Surf Music; Rock                0.023648\n",
       "Rock; Hard Rock; Heavy Metal    0.023432\n",
       "Indie; Rock                     0.022783\n",
       "Soul Music; R&B                 0.021557\n",
       "Rap                             0.020043\n",
       "Country; Black Music            0.008940\n",
       "Name: Genres, dtype: float64"
      ]
     },
     "execution_count": 62,
     "metadata": {},
     "output_type": "execute_result"
    }
   ],
   "source": [
    "df['Genres'].value_counts(normalize=True)"
   ]
  },
  {
   "cell_type": "code",
   "execution_count": 63,
   "metadata": {},
   "outputs": [
    {
     "data": {
      "text/plain": [
       "count    13870.000000\n",
       "mean       515.314924\n",
       "std        151.397113\n",
       "min        323.000000\n",
       "25%        378.000000\n",
       "50%        505.000000\n",
       "75%        621.000000\n",
       "max        828.000000\n",
       "Name: Songs, dtype: float64"
      ]
     },
     "execution_count": 63,
     "metadata": {},
     "output_type": "execute_result"
    }
   ],
   "source": [
    "df['Songs'].describe()"
   ]
  },
  {
   "cell_type": "code",
   "execution_count": 64,
   "metadata": {},
   "outputs": [
    {
     "data": {
      "text/plain": [
       "count    13870.000000\n",
       "mean        12.985984\n",
       "std         22.803892\n",
       "min          0.000000\n",
       "25%          1.300000\n",
       "50%          3.300000\n",
       "75%         14.100000\n",
       "max        114.900000\n",
       "Name: Popularity, dtype: float64"
      ]
     },
     "execution_count": 64,
     "metadata": {},
     "output_type": "execute_result"
    }
   ],
   "source": [
    "df['Popularity'].describe()"
   ]
  },
  {
   "cell_type": "code",
   "execution_count": 92,
   "metadata": {},
   "outputs": [
    {
     "data": {
      "text/plain": [
       "count    13870.000000\n",
       "mean         0.113020\n",
       "std          0.198467\n",
       "min          0.000000\n",
       "25%          0.011314\n",
       "50%          0.028721\n",
       "75%          0.122715\n",
       "max          1.000000\n",
       "Name: PopNorm, dtype: float64"
      ]
     },
     "execution_count": 92,
     "metadata": {},
     "output_type": "execute_result"
    }
   ],
   "source": [
    "# Normalize popularity\n",
    "df['PopNorm'] = (df['Popularity'] - df['Popularity'].min()) / (df['Popularity'].max() - df['Popularity'].min())\n",
    "df['PopNorm'].describe()"
   ]
  },
  {
   "attachments": {},
   "cell_type": "markdown",
   "metadata": {},
   "source": [
    "Bivariate Exploration"
   ]
  },
  {
   "cell_type": "code",
   "execution_count": 94,
   "metadata": {},
   "outputs": [
    {
     "data": {
      "image/png": "[encoded data removed]",
      "text/plain": [
       "<Figure size 750x500 with 1 Axes>"
      ]
     },
     "metadata": {},
     "output_type": "display_data"
    },
    {
     "name": "stdout",
     "output_type": "stream",
     "text": [
      "Not very instructive...\n"
     ]
    }
   ],
   "source": [
    "sns.catplot(x='Genres', y='PopNorm', data=df, kind='box', aspect=1.5)\n",
    "plt.title(\"Boxplot for Popularity by Genre\")\n",
    "plt.show()\n",
    "print('Not very instructive...')"
   ]
  },
  {
   "cell_type": "code",
   "execution_count": 75,
   "metadata": {},
   "outputs": [
    {
     "data": {
      "image/png": "[encoded data removed]",
      "text/plain": [
       "<Figure size 1200x600 with 1 Axes>"
      ]
     },
     "metadata": {},
     "output_type": "display_data"
    }
   ],
   "source": [
    "sns.scatterplot(x=\"Songs\", y=\"PopNorm\", hue=\"Genres\", data=df, palette=\"Dark2\", s=80, legend=False)\n",
    "plt.title(\"Relationship between Songs, Popularity, and Genre\")\n",
    "plt.show()"
   ]
  },
  {
   "attachments": {},
   "cell_type": "markdown",
   "metadata": {},
   "source": [
    "Convert 'Genres' to One-Hot encoding"
   ]
  },
  {
   "cell_type": "code",
   "execution_count": 95,
   "metadata": {},
   "outputs": [
    {
     "name": "stdout",
     "output_type": "stream",
     "text": [
      "Vocabulary: {'hip': 10, 'hop': 11, 'rap': 17, 'black': 0, 'music': 15, 'pop': 16, 'funk': 7, 'rockabilly': 19, 'romântico': 20, 'rock': 18, 'folk': 6, 'country': 3, 'blues': 1, 'dance': 4, 'soul': 21, 'disco': 5, 'hard': 8, 'heavy': 9, 'metal': 14, 'indie': 12, 'jazz': 13, 'clássico': 2, 'surf': 22}\n",
      "Encoded Genres:\n",
      "[[1 0 0 ... 0 0 0]\n",
      " [1 0 0 ... 0 0 0]\n",
      " [1 0 0 ... 0 0 0]\n",
      " ...\n",
      " [0 0 0 ... 1 0 0]\n",
      " [0 0 0 ... 1 0 0]\n",
      " [0 0 0 ... 1 0 0]]\n"
     ]
    }
   ],
   "source": [
    "vectorizer = CountVectorizer()\n",
    "\n",
    "vectorizer.fit(df['Genres'].replace(';',''))\n",
    "print('Vocabulary:', vectorizer.vocabulary_)\n",
    "\n",
    "X = vectorizer.transform(df['Genres'])\n",
    "print('Encoded Genres:')\n",
    "print(X.toarray())"
   ]
  },
  {
   "attachments": {},
   "cell_type": "markdown",
   "metadata": {},
   "source": [
    "Clustering"
   ]
  },
  {
   "cell_type": "code",
   "execution_count": 96,
   "metadata": {},
   "outputs": [],
   "source": [
    "# Elbow score\n",
    "import warnings\n",
    "warnings.filterwarnings(\"ignore\")\n",
    "\n",
    "kmeans = KMeans(random_state=42)\n",
    "visualizer = KElbowVisualizer(kmeans, k=(2,20))\n",
    "visualizer.fit(X)\n",
    "visualizer.show()"
   ]
  },
  {
   "cell_type": "code",
   "execution_count": null,
   "metadata": {},
   "outputs": [],
   "source": [
    "kmeans.n_clusters = visualizer.elbow_value_\n",
    "kmeans.fit(X)\n",
    "\n",
    "df['genre_cluster'] = kmeans.labels_"
   ]
  },
  {
   "cell_type": "code",
   "execution_count": null,
   "metadata": {},
   "outputs": [
    {
     "data": {
      "text/plain": [
       "genre_cluster\n",
       "1    4199\n",
       "3    1996\n",
       "2    1956\n",
       "4    1583\n",
       "7    1220\n",
       "0    1124\n",
       "5    1102\n",
       "6     690\n",
       "Name: genre_cluster, dtype: int64"
      ]
     },
     "execution_count": 89,
     "metadata": {},
     "output_type": "execute_result"
    }
   ],
   "source": [
    "# Cluster distribution\n",
    "df.groupby('genre_cluster')['genre_cluster'].count().sort_values(ascending=False)"
   ]
  }
 ],
 "metadata": {
  "kernelspec": {
   "display_name": "capstone",
   "language": "python",
   "name": "python3"
  },
  "language_info": {
   "codemirror_mode": {
    "name": "ipython",
    "version": 3
   },
   "file_extension": ".py",
   "mimetype": "text/x-python",
   "name": "python",
   "nbconvert_exporter": "python",
   "pygments_lexer": "ipython3",
   "version": "3.7.16"
  },
  "orig_nbformat": 4,
  "vscode": {
   "interpreter": {
    "hash": "fe1c14c554fa002d16476f43cdef49f3e8d620af804575f2ed0121fe64dd2e36"
   }
  }
 },
 "nbformat": 4,
 "nbformat_minor": 2
}
