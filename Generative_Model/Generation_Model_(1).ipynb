{
 "cells": [
  {
   "cell_type": "markdown",
   "metadata": {
    "id": "NOWg9p-xn-yU"
   },
   "source": [
    "## **Introduction**\n",
    "\n",
    "\n",
    "Our goal is to build a generative model for song lyrics that can learn the patterns and structures that exist within a corpus of existing song lyrics, and then use this knowledge to generate new lyrics that are similar in style and content to the original corpus.\n",
    "\n",
    "There are a few steps I would like to follow to build a generative model for song lyrics:\n",
    "\n",
    "1. Gather a corpus of song lyrics from our dataset. Preprocess the data by removing irrelevant information.\n",
    "\n",
    "2. Train a language model: Use deep learning algorithms like a Recurrent Neural Network (RNN) and Long Short-Term Memory (LSTM) to train a language model on the preprocessed lyrics data. The model will learn the relationships between the words and phrases in the corpus and will be able to generate new lyrics based on this knowledge. \n",
    "\n",
    "3. Generate new lyrics: Once the model is trained, we can use it to generate new lyrics by giving it a starting prompt or seed. The model will then use its knowledge of the patterns and structures in the corpus to generate new lyrics that are similar in style and content to the original lyrics.\n",
    "\n",
    "4. Evaluate the results: Evaluate the generated lyrics to see how well they match the style and content of the original corpus. We may use metrics like perplexity, custom metrics, or human evaluation to assess the quality of the generated lyrics. We would like to explore if LSTM can perform better than RNN in terms of lyrics generation. \n",
    "\n",
    "5. Refine the model: If the generated lyrics are not of high quality, we would refine the model by adjusting the hyperparameters or training it on a larger or more diverse corpus of lyrics.\n",
    "\n",
    "We anticipate that generating high-quality song lyrics can be challenging, as there are many nuances and complexities in the language and structure of lyrics. Therefore, it's important to carefully evaluate and refine the model to ensure that it generates high-quality lyrics.\n"
   ]
  },
  {
   "cell_type": "markdown",
   "metadata": {
    "id": "CWFKZaChr1Hw"
   },
   "source": [
    "### Import Packages"
   ]
  },
  {
   "cell_type": "code",
   "execution_count": 2,
   "metadata": {
    "colab": {
     "base_uri": "https://localhost:8080/"
    },
    "id": "zZ3fo50rsVbk",
    "outputId": "4c6681fc-7098-40f7-fc81-2966c9d1ba7f"
   },
   "outputs": [
    {
     "name": "stderr",
     "output_type": "stream",
     "text": [
      "[nltk_data] Downloading package omw-1.4 to /home/yyk/nltk_data...\n",
      "[nltk_data]   Package omw-1.4 is already up-to-date!\n",
      "[nltk_data] Downloading package stopwords to /home/yyk/nltk_data...\n",
      "[nltk_data]   Package stopwords is already up-to-date!\n",
      "[nltk_data] Downloading package wordnet to /home/yyk/nltk_data...\n",
      "[nltk_data]   Package wordnet is already up-to-date!\n"
     ]
    }
   ],
   "source": [
    "import numpy as np\n",
    "import pandas as pd\n",
    "import nltk\n",
    "from nltk.corpus import stopwords\n",
    "%matplotlib inline\n",
    "import matplotlib.pyplot as plt\n",
    "from sklearn.feature_extraction.text import TfidfVectorizer\n",
    "from sklearn import metrics\n",
    "import re\n",
    "from nltk.stem import WordNetLemmatizer\n",
    "nltk.download('omw-1.4')\n",
    "nltk.download('stopwords')\n",
    "nltk.download('wordnet')\n",
    "\n",
    "import os\n",
    "import time\n",
    "import lzma\n",
    "import warnings\n",
    "warnings.filterwarnings('ignore')"
   ]
  },
  {
   "cell_type": "markdown",
   "metadata": {
    "id": "loGC5AE58CzR",
    "tags": []
   },
   "source": [
    "### Getting the Data Ready\n",
    "\n",
    "\n",
    "\n",
    "\n",
    "\n"
   ]
  },
  {
   "cell_type": "markdown",
   "metadata": {
    "id": "QVT9iMQeaCFd"
   },
   "source": [
    "#### Compile a list of top US artists\n",
    "\n",
    "Download the data from Kaggle here: https://www.kaggle.com/datasets/neisse/scrapped-lyrics-from-6-genres?select=lyrics-data.csv \n",
    "\n",
    "Then save it in the current directory. "
   ]
  },
  {
   "cell_type": "code",
   "execution_count": 3,
   "metadata": {
    "id": "XnBza9XjtZcs"
   },
   "outputs": [],
   "source": [
    "df_all = pd.read_csv('lyrics-data.csv') "
   ]
  },
  {
   "cell_type": "code",
   "execution_count": 5,
   "metadata": {
    "colab": {
     "base_uri": "https://localhost:8080/",
     "height": 206
    },
    "id": "xfOO4u6guOs0",
    "outputId": "30ea2179-615c-4fbc-a774-8071e88885ef"
   },
   "outputs": [
    {
     "data": {
      "text/html": [
       "<div>\n",
       "<style scoped>\n",
       "    .dataframe tbody tr th:only-of-type {\n",
       "        vertical-align: middle;\n",
       "    }\n",
       "\n",
       "    .dataframe tbody tr th {\n",
       "        vertical-align: top;\n",
       "    }\n",
       "\n",
       "    .dataframe thead th {\n",
       "        text-align: right;\n",
       "    }\n",
       "</style>\n",
       "<table border=\"1\" class=\"dataframe\">\n",
       "  <thead>\n",
       "    <tr style=\"text-align: right;\">\n",
       "      <th></th>\n",
       "      <th>ALink</th>\n",
       "      <th>SName</th>\n",
       "      <th>SLink</th>\n",
       "      <th>Lyric</th>\n",
       "      <th>language</th>\n",
       "    </tr>\n",
       "  </thead>\n",
       "  <tbody>\n",
       "    <tr>\n",
       "      <th>0</th>\n",
       "      <td>/ivete-sangalo/</td>\n",
       "      <td>Arerê</td>\n",
       "      <td>/ivete-sangalo/arere.html</td>\n",
       "      <td>Tudo o que eu quero nessa vida,\\nToda vida, é\\...</td>\n",
       "      <td>pt</td>\n",
       "    </tr>\n",
       "    <tr>\n",
       "      <th>1</th>\n",
       "      <td>/ivete-sangalo/</td>\n",
       "      <td>Se Eu Não Te Amasse Tanto Assim</td>\n",
       "      <td>/ivete-sangalo/se-eu-nao-te-amasse-tanto-assim...</td>\n",
       "      <td>Meu coração\\nSem direção\\nVoando só por voar\\n...</td>\n",
       "      <td>pt</td>\n",
       "    </tr>\n",
       "    <tr>\n",
       "      <th>2</th>\n",
       "      <td>/ivete-sangalo/</td>\n",
       "      <td>Céu da Boca</td>\n",
       "      <td>/ivete-sangalo/chupa-toda.html</td>\n",
       "      <td>É de babaixá!\\nÉ de balacubaca!\\nÉ de babaixá!...</td>\n",
       "      <td>pt</td>\n",
       "    </tr>\n",
       "    <tr>\n",
       "      <th>3</th>\n",
       "      <td>/ivete-sangalo/</td>\n",
       "      <td>Quando A Chuva Passar</td>\n",
       "      <td>/ivete-sangalo/quando-a-chuva-passar.html</td>\n",
       "      <td>Quando a chuva passar\\n\\nPra quê falar\\nSe voc...</td>\n",
       "      <td>pt</td>\n",
       "    </tr>\n",
       "    <tr>\n",
       "      <th>4</th>\n",
       "      <td>/ivete-sangalo/</td>\n",
       "      <td>Sorte Grande</td>\n",
       "      <td>/ivete-sangalo/sorte-grande.html</td>\n",
       "      <td>A minha sorte grande foi você cair do céu\\nMin...</td>\n",
       "      <td>pt</td>\n",
       "    </tr>\n",
       "  </tbody>\n",
       "</table>\n",
       "</div>"
      ],
      "text/plain": [
       "             ALink                            SName  \\\n",
       "0  /ivete-sangalo/                            Arerê   \n",
       "1  /ivete-sangalo/  Se Eu Não Te Amasse Tanto Assim   \n",
       "2  /ivete-sangalo/                      Céu da Boca   \n",
       "3  /ivete-sangalo/            Quando A Chuva Passar   \n",
       "4  /ivete-sangalo/                     Sorte Grande   \n",
       "\n",
       "                                               SLink  \\\n",
       "0                          /ivete-sangalo/arere.html   \n",
       "1  /ivete-sangalo/se-eu-nao-te-amasse-tanto-assim...   \n",
       "2                     /ivete-sangalo/chupa-toda.html   \n",
       "3          /ivete-sangalo/quando-a-chuva-passar.html   \n",
       "4                   /ivete-sangalo/sorte-grande.html   \n",
       "\n",
       "                                               Lyric language  \n",
       "0  Tudo o que eu quero nessa vida,\\nToda vida, é\\...       pt  \n",
       "1  Meu coração\\nSem direção\\nVoando só por voar\\n...       pt  \n",
       "2  É de babaixá!\\nÉ de balacubaca!\\nÉ de babaixá!...       pt  \n",
       "3  Quando a chuva passar\\n\\nPra quê falar\\nSe voc...       pt  \n",
       "4  A minha sorte grande foi você cair do céu\\nMin...       pt  "
      ]
     },
     "execution_count": 5,
     "metadata": {},
     "output_type": "execute_result"
    }
   ],
   "source": [
    "df_all.head()"
   ]
  },
  {
   "cell_type": "code",
   "execution_count": 6,
   "metadata": {},
   "outputs": [
    {
     "data": {
      "text/html": [
       "<div>\n",
       "<style scoped>\n",
       "    .dataframe tbody tr th:only-of-type {\n",
       "        vertical-align: middle;\n",
       "    }\n",
       "\n",
       "    .dataframe tbody tr th {\n",
       "        vertical-align: top;\n",
       "    }\n",
       "\n",
       "    .dataframe thead th {\n",
       "        text-align: right;\n",
       "    }\n",
       "</style>\n",
       "<table border=\"1\" class=\"dataframe\">\n",
       "  <thead>\n",
       "    <tr style=\"text-align: right;\">\n",
       "      <th></th>\n",
       "      <th>ALink</th>\n",
       "      <th>SName</th>\n",
       "      <th>SLink</th>\n",
       "      <th>Lyric</th>\n",
       "      <th>language</th>\n",
       "      <th>artist</th>\n",
       "    </tr>\n",
       "  </thead>\n",
       "  <tbody>\n",
       "    <tr>\n",
       "      <th>69</th>\n",
       "      <td>/ivete-sangalo/</td>\n",
       "      <td>Careless Whisper</td>\n",
       "      <td>/ivete-sangalo/careless-whisper.html</td>\n",
       "      <td>I feel so unsure\\nAs I take your hand and lead...</td>\n",
       "      <td>en</td>\n",
       "      <td>ivete sangalo</td>\n",
       "    </tr>\n",
       "    <tr>\n",
       "      <th>86</th>\n",
       "      <td>/ivete-sangalo/</td>\n",
       "      <td>Could You Be Loved / Citação Musical do Rap: S...</td>\n",
       "      <td>/ivete-sangalo/could-you-be-loved-citacao-musi...</td>\n",
       "      <td>Don't let them fool, ya\\nOr even try to school...</td>\n",
       "      <td>en</td>\n",
       "      <td>ivete sangalo</td>\n",
       "    </tr>\n",
       "    <tr>\n",
       "      <th>88</th>\n",
       "      <td>/ivete-sangalo/</td>\n",
       "      <td>Cruisin' (Part. Saulo)</td>\n",
       "      <td>/ivete-sangalo/cruisin-part-saulo.html</td>\n",
       "      <td>Baby, let's cruise, away from here\\nDon't be c...</td>\n",
       "      <td>en</td>\n",
       "      <td>ivete sangalo</td>\n",
       "    </tr>\n",
       "    <tr>\n",
       "      <th>111</th>\n",
       "      <td>/ivete-sangalo/</td>\n",
       "      <td>Easy</td>\n",
       "      <td>/ivete-sangalo/easy.html</td>\n",
       "      <td>Know it sounds funny\\nBut, I just can't stand ...</td>\n",
       "      <td>en</td>\n",
       "      <td>ivete sangalo</td>\n",
       "    </tr>\n",
       "    <tr>\n",
       "      <th>140</th>\n",
       "      <td>/ivete-sangalo/</td>\n",
       "      <td>For Your Babies (The Voice cover)</td>\n",
       "      <td>/ivete-sangalo/for-your-babies-the-voice-cover...</td>\n",
       "      <td>You've got that look again\\nThe one I hoped I ...</td>\n",
       "      <td>en</td>\n",
       "      <td>ivete sangalo</td>\n",
       "    </tr>\n",
       "  </tbody>\n",
       "</table>\n",
       "</div>"
      ],
      "text/plain": [
       "               ALink                                              SName  \\\n",
       "69   /ivete-sangalo/                                   Careless Whisper   \n",
       "86   /ivete-sangalo/  Could You Be Loved / Citação Musical do Rap: S...   \n",
       "88   /ivete-sangalo/                             Cruisin' (Part. Saulo)   \n",
       "111  /ivete-sangalo/                                               Easy   \n",
       "140  /ivete-sangalo/                  For Your Babies (The Voice cover)   \n",
       "\n",
       "                                                 SLink  \\\n",
       "69                /ivete-sangalo/careless-whisper.html   \n",
       "86   /ivete-sangalo/could-you-be-loved-citacao-musi...   \n",
       "88              /ivete-sangalo/cruisin-part-saulo.html   \n",
       "111                           /ivete-sangalo/easy.html   \n",
       "140  /ivete-sangalo/for-your-babies-the-voice-cover...   \n",
       "\n",
       "                                                 Lyric language         artist  \n",
       "69   I feel so unsure\\nAs I take your hand and lead...       en  ivete sangalo  \n",
       "86   Don't let them fool, ya\\nOr even try to school...       en  ivete sangalo  \n",
       "88   Baby, let's cruise, away from here\\nDon't be c...       en  ivete sangalo  \n",
       "111  Know it sounds funny\\nBut, I just can't stand ...       en  ivete sangalo  \n",
       "140  You've got that look again\\nThe one I hoped I ...       en  ivete sangalo  "
      ]
     },
     "execution_count": 6,
     "metadata": {},
     "output_type": "execute_result"
    }
   ],
   "source": [
    "df_all['artist'] = df_all['ALink'].str.replace('[\\/]','')\n",
    "df_all['artist'] = df_all['artist'].str.replace('[\\-]',' ')\n",
    "df_all = df_all[df_all.language == 'en']\n",
    "df_all.head()"
   ]
  },
  {
   "cell_type": "markdown",
   "metadata": {},
   "source": [
    "We aimed to compile a list of the top 50 US artists based on their song count. However, certain artists were excluded due to either not being from the United States or being a collective of multiple artists. As a result, our refined list features 32 exceptional US artists. We filtered the dataset in this manner to obtain a more cohesive subset for training purposes, thereby enabling the model to better learn the underlying structure and patterns.\n"
   ]
  },
  {
   "cell_type": "code",
   "execution_count": 7,
   "metadata": {},
   "outputs": [],
   "source": [
    "# Get a count of unique artist names\n",
    "artist_counts = df_all['artist'].value_counts()\n",
    "top50 = artist_counts[:50]\n",
    "#filtering out non-American singers/bands \n",
    "exclusion = ['temas de filmes','matheus hardke','glee','hillsong united','elton john','bee gees','elvis costello','paul mccartney','vineyard','david bowie','the rolling stones','rod stewart','van morrison','kylie minogue','u2','the beatles','eric clapton','drake']\n",
    "US_top = top50.loc[~top50.index.isin(exclusion)]"
   ]
  },
  {
   "cell_type": "code",
   "execution_count": 8,
   "metadata": {},
   "outputs": [
    {
     "name": "stdout",
     "output_type": "stream",
     "text": [
      "Number of Top US Artists: 32\n"
     ]
    },
    {
     "data": {
      "text/plain": [
       "frank sinatra        819\n",
       "elvis presley        747\n",
       "dolly parton         723\n",
       "lil wayne            689\n",
       "chris brown          623\n",
       "guided by voices     620\n",
       "prince               564\n",
       "johnny cash          555\n",
       "bob dylan            548\n",
       "george jones         534\n",
       "neil young           515\n",
       "bruce springsteen    502\n",
       "snoop dogg           485\n",
       "eminem               484\n",
       "50 cent              466\n",
       "roy orbison          438\n",
       "ella fitzgerald      421\n",
       "taylor swift         385\n",
       "waylon jennings      383\n",
       "2pac tupac shakur    382\n",
       "bb king              371\n",
       "bon jovi             367\n",
       "george strait        365\n",
       "madonna              360\n",
       "diana ross           355\n",
       "bill monroe          351\n",
       "beach boys           332\n",
       "barry manilow        330\n",
       "alice cooper         326\n",
       "nas                  324\n",
       "ray charles          322\n",
       "beck                 320\n",
       "Name: artist, dtype: int64"
      ]
     },
     "execution_count": 8,
     "metadata": {},
     "output_type": "execute_result"
    }
   ],
   "source": [
    "print('Number of Top US Artists:',len(US_top))\n",
    "US_top"
   ]
  },
  {
   "cell_type": "markdown",
   "metadata": {},
   "source": [
    "With the above list, we conducted further data preprocessing to remove songs featuring other artists and eliminated text enclosed within parentheses \"()\" and square brackets \"[]\". The reason for these adjustments is to simplify the dataset and reduce potential noise, ensuring a more focused and consistent training experience for the model. \n",
    "Now we import the new clean dataframe generated in \"data_cleaning.ipynb\": "
   ]
  },
  {
   "cell_type": "code",
   "execution_count": 5,
   "metadata": {},
   "outputs": [],
   "source": [
    "df = pd.read_csv('../clean_lyrics_df.csv')"
   ]
  },
  {
   "cell_type": "code",
   "execution_count": 3,
   "metadata": {},
   "outputs": [
    {
     "data": {
      "text/html": [
       "<div>\n",
       "<style scoped>\n",
       "    .dataframe tbody tr th:only-of-type {\n",
       "        vertical-align: middle;\n",
       "    }\n",
       "\n",
       "    .dataframe tbody tr th {\n",
       "        vertical-align: top;\n",
       "    }\n",
       "\n",
       "    .dataframe thead th {\n",
       "        text-align: right;\n",
       "    }\n",
       "</style>\n",
       "<table border=\"1\" class=\"dataframe\">\n",
       "  <thead>\n",
       "    <tr style=\"text-align: right;\">\n",
       "      <th></th>\n",
       "      <th>ALink</th>\n",
       "      <th>SName</th>\n",
       "      <th>SLink</th>\n",
       "      <th>Lyric</th>\n",
       "      <th>language</th>\n",
       "    </tr>\n",
       "  </thead>\n",
       "  <tbody>\n",
       "    <tr>\n",
       "      <th>0</th>\n",
       "      <td>50 cent</td>\n",
       "      <td>In da Club</td>\n",
       "      <td>/50-cent/in-da-club.html</td>\n",
       "      <td>go, go, go, go\\ngo, go, go shawty\\nit's your b...</td>\n",
       "      <td>en</td>\n",
       "    </tr>\n",
       "    <tr>\n",
       "      <th>1</th>\n",
       "      <td>50 cent</td>\n",
       "      <td>21 Questions</td>\n",
       "      <td>/50-cent/21-questions.html</td>\n",
       "      <td>new york city!\\nyou are now rapping...with 50 ...</td>\n",
       "      <td>en</td>\n",
       "    </tr>\n",
       "    <tr>\n",
       "      <th>2</th>\n",
       "      <td>50 cent</td>\n",
       "      <td>P.I.M.P.</td>\n",
       "      <td>/50-cent/p-i-m-p.html</td>\n",
       "      <td>i don't know what you heard about me\\nbut a b*...</td>\n",
       "      <td>en</td>\n",
       "    </tr>\n",
       "    <tr>\n",
       "      <th>3</th>\n",
       "      <td>50 cent</td>\n",
       "      <td>Many Men (Wish Death)</td>\n",
       "      <td>/50-cent/many-men-wish-death.html</td>\n",
       "      <td>man we gotta go get something to eat man\\ni'm ...</td>\n",
       "      <td>en</td>\n",
       "    </tr>\n",
       "    <tr>\n",
       "      <th>4</th>\n",
       "      <td>50 cent</td>\n",
       "      <td>Candy Shop</td>\n",
       "      <td>/50-cent/candy-shop.html</td>\n",
       "      <td>yeah...\\nuh huh\\nso seductive\\ni'll take you t...</td>\n",
       "      <td>en</td>\n",
       "    </tr>\n",
       "  </tbody>\n",
       "</table>\n",
       "</div>"
      ],
      "text/plain": [
       "     ALink                  SName                              SLink  \\\n",
       "0  50 cent             In da Club           /50-cent/in-da-club.html   \n",
       "1  50 cent           21 Questions         /50-cent/21-questions.html   \n",
       "2  50 cent               P.I.M.P.              /50-cent/p-i-m-p.html   \n",
       "3  50 cent  Many Men (Wish Death)  /50-cent/many-men-wish-death.html   \n",
       "4  50 cent             Candy Shop           /50-cent/candy-shop.html   \n",
       "\n",
       "                                               Lyric language  \n",
       "0  go, go, go, go\\ngo, go, go shawty\\nit's your b...       en  \n",
       "1  new york city!\\nyou are now rapping...with 50 ...       en  \n",
       "2  i don't know what you heard about me\\nbut a b*...       en  \n",
       "3  man we gotta go get something to eat man\\ni'm ...       en  \n",
       "4  yeah...\\nuh huh\\nso seductive\\ni'll take you t...       en  "
      ]
     },
     "execution_count": 3,
     "metadata": {},
     "output_type": "execute_result"
    }
   ],
   "source": [
    "df.head()"
   ]
  },
  {
   "cell_type": "code",
   "execution_count": 12,
   "metadata": {
    "colab": {
     "base_uri": "https://localhost:8080/"
    },
    "id": "61P3vOnluSUm",
    "outputId": "9becc582-7d58-45d2-f660-2eda73a43155"
   },
   "outputs": [
    {
     "data": {
      "text/plain": [
       "array(['en'], dtype=object)"
      ]
     },
     "execution_count": 12,
     "metadata": {},
     "output_type": "execute_result"
    }
   ],
   "source": [
    "df.language.unique()"
   ]
  },
  {
   "cell_type": "code",
   "execution_count": 21,
   "metadata": {
    "colab": {
     "base_uri": "https://localhost:8080/",
     "height": 206
    },
    "id": "ddGdTaNT0FRw",
    "outputId": "73f31795-1e8e-41b2-a99f-9d4d7041aafe"
   },
   "outputs": [
    {
     "data": {
      "text/html": [
       "<div>\n",
       "<style scoped>\n",
       "    .dataframe tbody tr th:only-of-type {\n",
       "        vertical-align: middle;\n",
       "    }\n",
       "\n",
       "    .dataframe tbody tr th {\n",
       "        vertical-align: top;\n",
       "    }\n",
       "\n",
       "    .dataframe thead th {\n",
       "        text-align: right;\n",
       "    }\n",
       "</style>\n",
       "<table border=\"1\" class=\"dataframe\">\n",
       "  <thead>\n",
       "    <tr style=\"text-align: right;\">\n",
       "      <th></th>\n",
       "      <th>artist</th>\n",
       "      <th>songname</th>\n",
       "      <th>songlink</th>\n",
       "      <th>lyric</th>\n",
       "      <th>language</th>\n",
       "    </tr>\n",
       "  </thead>\n",
       "  <tbody>\n",
       "    <tr>\n",
       "      <th>0</th>\n",
       "      <td>50 cent</td>\n",
       "      <td>In da Club</td>\n",
       "      <td>/50-cent/in-da-club.html</td>\n",
       "      <td>go, go, go, go\\ngo, go, go shawty\\nit's your b...</td>\n",
       "      <td>en</td>\n",
       "    </tr>\n",
       "    <tr>\n",
       "      <th>1</th>\n",
       "      <td>50 cent</td>\n",
       "      <td>21 Questions</td>\n",
       "      <td>/50-cent/21-questions.html</td>\n",
       "      <td>new york city!\\nyou are now rapping...with 50 ...</td>\n",
       "      <td>en</td>\n",
       "    </tr>\n",
       "    <tr>\n",
       "      <th>2</th>\n",
       "      <td>50 cent</td>\n",
       "      <td>P.I.M.P.</td>\n",
       "      <td>/50-cent/p-i-m-p.html</td>\n",
       "      <td>i don't know what you heard about me\\nbut a b*...</td>\n",
       "      <td>en</td>\n",
       "    </tr>\n",
       "    <tr>\n",
       "      <th>3</th>\n",
       "      <td>50 cent</td>\n",
       "      <td>Many Men (Wish Death)</td>\n",
       "      <td>/50-cent/many-men-wish-death.html</td>\n",
       "      <td>man we gotta go get something to eat man\\ni'm ...</td>\n",
       "      <td>en</td>\n",
       "    </tr>\n",
       "    <tr>\n",
       "      <th>4</th>\n",
       "      <td>50 cent</td>\n",
       "      <td>Candy Shop</td>\n",
       "      <td>/50-cent/candy-shop.html</td>\n",
       "      <td>yeah...\\nuh huh\\nso seductive\\ni'll take you t...</td>\n",
       "      <td>en</td>\n",
       "    </tr>\n",
       "  </tbody>\n",
       "</table>\n",
       "</div>"
      ],
      "text/plain": [
       "    artist               songname                           songlink  \\\n",
       "0  50 cent             In da Club           /50-cent/in-da-club.html   \n",
       "1  50 cent           21 Questions         /50-cent/21-questions.html   \n",
       "2  50 cent               P.I.M.P.              /50-cent/p-i-m-p.html   \n",
       "3  50 cent  Many Men (Wish Death)  /50-cent/many-men-wish-death.html   \n",
       "4  50 cent             Candy Shop           /50-cent/candy-shop.html   \n",
       "\n",
       "                                               lyric language  \n",
       "0  go, go, go, go\\ngo, go, go shawty\\nit's your b...       en  \n",
       "1  new york city!\\nyou are now rapping...with 50 ...       en  \n",
       "2  i don't know what you heard about me\\nbut a b*...       en  \n",
       "3  man we gotta go get something to eat man\\ni'm ...       en  \n",
       "4  yeah...\\nuh huh\\nso seductive\\ni'll take you t...       en  "
      ]
     },
     "execution_count": 21,
     "metadata": {},
     "output_type": "execute_result"
    }
   ],
   "source": [
    "df.columns = [\"artist\", \"songname\", \"songlink\", \"lyric\", \"language\"]\n",
    "df.head()"
   ]
  },
  {
   "cell_type": "code",
   "execution_count": 24,
   "metadata": {
    "colab": {
     "base_uri": "https://localhost:8080/",
     "height": 589
    },
    "id": "PewrdWrOuV8o",
    "outputId": "8e35c763-a5f7-4110-806e-99f6355ccd72"
   },
   "outputs": [
    {
     "data": {
      "text/html": [
       "<div>\n",
       "<style scoped>\n",
       "    .dataframe tbody tr th:only-of-type {\n",
       "        vertical-align: middle;\n",
       "    }\n",
       "\n",
       "    .dataframe tbody tr th {\n",
       "        vertical-align: top;\n",
       "    }\n",
       "\n",
       "    .dataframe thead th {\n",
       "        text-align: right;\n",
       "    }\n",
       "</style>\n",
       "<table border=\"1\" class=\"dataframe\">\n",
       "  <thead>\n",
       "    <tr style=\"text-align: right;\">\n",
       "      <th></th>\n",
       "      <th>artist</th>\n",
       "      <th>songname</th>\n",
       "      <th>songlink</th>\n",
       "      <th>lyric</th>\n",
       "      <th>language</th>\n",
       "    </tr>\n",
       "  </thead>\n",
       "  <tbody>\n",
       "  </tbody>\n",
       "</table>\n",
       "</div>"
      ],
      "text/plain": [
       "Empty DataFrame\n",
       "Columns: [artist, songname, songlink, lyric, language]\n",
       "Index: []"
      ]
     },
     "execution_count": 24,
     "metadata": {},
     "output_type": "execute_result"
    }
   ],
   "source": [
    "#check if there is any lyric not in english\n",
    "df[df.language != 'en']\n"
   ]
  },
  {
   "cell_type": "code",
   "execution_count": 25,
   "metadata": {
    "collapsed": false,
    "jupyter": {
     "outputs_hidden": false
    }
   },
   "outputs": [],
   "source": [
    "# Export the DataFrame to a pickle file\n",
    "pickle_file = \"df_en.pickle\"\n",
    "df_en.to_pickle(pickle_file)"
   ]
  },
  {
   "cell_type": "markdown",
   "metadata": {
    "id": "QRLsQtabDzLd"
   },
   "source": [
    "Althought we have developed functions below, we didn’t go further with stopwords removal or lemmatization. Because in some cases, stopwords may actually carry important contextual information and contribute to the overall meaning and tone of the lyrics. Some artists may use more certain stopwords than others, and we hope that we can see that pattern in the generated lyrics. Lemmatization can also result in the loss of some information. For example, \"loving\" and \"loved\" have different meanings and may be used in different contexts, so reducing both of them to \"love\" may lead to some loss of sentiment.\n"
   ]
  },
  {
   "cell_type": "code",
   "execution_count": 26,
   "metadata": {
    "id": "msPx0RrH0CX1"
   },
   "outputs": [],
   "source": [
    "stop_word_list = stopwords.words('english')\n",
    "lemma= WordNetLemmatizer()\n",
    "def text_preprocess(sentence, stopwords_removal = True):\n",
    "    '''This function takes in a dataframe, extract and format the text in a standardized format.'''\n",
    "    sentence = str(sentence)\n",
    "    sentence = sentence.lower() # lower case\n",
    "    sentence = re.sub(r'[^a-zA-Z0-9]', r' ', sentence)   # replace these punctuation with space\n",
    "    # sentence = re.sub(r'lrb|rrb', r'', sentence)\n",
    "    tokens = sentence.split()\n",
    "    clean_text = []\n",
    "    for item in tokens:\n",
    "        if stopwords_removal == True:\n",
    "            if item not in stop_word_list:\n",
    "                clean_text.append(lemma.lemmatize(item))\n",
    "        else:\n",
    "             clean_text.append(lemma.lemmatize(item))\n",
    "    clean_text  = \" \".join(clean_text)\n",
    "\n",
    "    return clean_text   "
   ]
  },
  {
   "cell_type": "code",
   "execution_count": 27,
   "metadata": {
    "colab": {
     "base_uri": "https://localhost:8080/"
    },
    "id": "KzvisdbcBPAi",
    "outputId": "5ce5c493-dc1b-40e4-83e0-52a876378840"
   },
   "outputs": [],
   "source": [
    "df_en['cleaned_lyric'] = df_en['lyric'].apply(lambda x:text_preprocess(x,stopwords_removal = False)) "
   ]
  },
  {
   "cell_type": "code",
   "execution_count": 29,
   "metadata": {
    "colab": {
     "base_uri": "https://localhost:8080/",
     "height": 589
    },
    "id": "GbREdQxzKWc0",
    "outputId": "2901753b-1b89-462c-cf9f-ed2851030439"
   },
   "outputs": [
    {
     "data": {
      "text/html": [
       "<div>\n",
       "<style scoped>\n",
       "    .dataframe tbody tr th:only-of-type {\n",
       "        vertical-align: middle;\n",
       "    }\n",
       "\n",
       "    .dataframe tbody tr th {\n",
       "        vertical-align: top;\n",
       "    }\n",
       "\n",
       "    .dataframe thead th {\n",
       "        text-align: right;\n",
       "    }\n",
       "</style>\n",
       "<table border=\"1\" class=\"dataframe\">\n",
       "  <thead>\n",
       "    <tr style=\"text-align: right;\">\n",
       "      <th></th>\n",
       "      <th>artist</th>\n",
       "      <th>songname</th>\n",
       "      <th>songlink</th>\n",
       "      <th>lyric</th>\n",
       "      <th>language</th>\n",
       "      <th>cleaned_lyric</th>\n",
       "    </tr>\n",
       "  </thead>\n",
       "  <tbody>\n",
       "    <tr>\n",
       "      <th>0</th>\n",
       "      <td>50 cent</td>\n",
       "      <td>In da Club</td>\n",
       "      <td>/50-cent/in-da-club.html</td>\n",
       "      <td>go, go, go, go\\ngo, go, go shawty\\nit's your b...</td>\n",
       "      <td>en</td>\n",
       "      <td>go go go go go go go shawty it s your birthday...</td>\n",
       "    </tr>\n",
       "    <tr>\n",
       "      <th>1</th>\n",
       "      <td>50 cent</td>\n",
       "      <td>21 Questions</td>\n",
       "      <td>/50-cent/21-questions.html</td>\n",
       "      <td>new york city!\\nyou are now rapping...with 50 ...</td>\n",
       "      <td>en</td>\n",
       "      <td>new york city you are now rapping with 50 cent...</td>\n",
       "    </tr>\n",
       "    <tr>\n",
       "      <th>2</th>\n",
       "      <td>50 cent</td>\n",
       "      <td>P.I.M.P.</td>\n",
       "      <td>/50-cent/p-i-m-p.html</td>\n",
       "      <td>i don't know what you heard about me\\nbut a b*...</td>\n",
       "      <td>en</td>\n",
       "      <td>i don t know what you heard about me but a b c...</td>\n",
       "    </tr>\n",
       "    <tr>\n",
       "      <th>3</th>\n",
       "      <td>50 cent</td>\n",
       "      <td>Many Men (Wish Death)</td>\n",
       "      <td>/50-cent/many-men-wish-death.html</td>\n",
       "      <td>man we gotta go get something to eat man\\ni'm ...</td>\n",
       "      <td>en</td>\n",
       "      <td>man we gotta go get something to eat man i m h...</td>\n",
       "    </tr>\n",
       "    <tr>\n",
       "      <th>4</th>\n",
       "      <td>50 cent</td>\n",
       "      <td>Candy Shop</td>\n",
       "      <td>/50-cent/candy-shop.html</td>\n",
       "      <td>yeah...\\nuh huh\\nso seductive\\ni'll take you t...</td>\n",
       "      <td>en</td>\n",
       "      <td>yeah uh huh so seductive i ll take you to the ...</td>\n",
       "    </tr>\n",
       "  </tbody>\n",
       "</table>\n",
       "</div>"
      ],
      "text/plain": [
       "    artist               songname                           songlink  \\\n",
       "0  50 cent             In da Club           /50-cent/in-da-club.html   \n",
       "1  50 cent           21 Questions         /50-cent/21-questions.html   \n",
       "2  50 cent               P.I.M.P.              /50-cent/p-i-m-p.html   \n",
       "3  50 cent  Many Men (Wish Death)  /50-cent/many-men-wish-death.html   \n",
       "4  50 cent             Candy Shop           /50-cent/candy-shop.html   \n",
       "\n",
       "                                               lyric language  \\\n",
       "0  go, go, go, go\\ngo, go, go shawty\\nit's your b...       en   \n",
       "1  new york city!\\nyou are now rapping...with 50 ...       en   \n",
       "2  i don't know what you heard about me\\nbut a b*...       en   \n",
       "3  man we gotta go get something to eat man\\ni'm ...       en   \n",
       "4  yeah...\\nuh huh\\nso seductive\\ni'll take you t...       en   \n",
       "\n",
       "                                       cleaned_lyric  \n",
       "0  go go go go go go go shawty it s your birthday...  \n",
       "1  new york city you are now rapping with 50 cent...  \n",
       "2  i don t know what you heard about me but a b c...  \n",
       "3  man we gotta go get something to eat man i m h...  \n",
       "4  yeah uh huh so seductive i ll take you to the ...  "
      ]
     },
     "execution_count": 29,
     "metadata": {},
     "output_type": "execute_result"
    }
   ],
   "source": [
    "df_en.head()"
   ]
  },
  {
   "cell_type": "code",
   "execution_count": 30,
   "metadata": {
    "id": "4Loe6SFkEmyY"
   },
   "outputs": [],
   "source": [
    "df_en.to_csv('NN_Test_Data/preprocessed_english_lyrics.csv', index=False)"
   ]
  },
  {
   "cell_type": "markdown",
   "metadata": {
    "id": "JRec-zYLG8eZ"
   },
   "source": [
    "#### Filter by Artist Name"
   ]
  },
  {
   "cell_type": "code",
   "execution_count": 31,
   "metadata": {
    "colab": {
     "base_uri": "https://localhost:8080/",
     "height": 884
    },
    "id": "2_1xyJ-ECUqH",
    "outputId": "48b0c65c-aec3-40d7-9bbf-f0c186c806f9"
   },
   "outputs": [
    {
     "data": {
      "text/html": [
       "<div>\n",
       "<style scoped>\n",
       "    .dataframe tbody tr th:only-of-type {\n",
       "        vertical-align: middle;\n",
       "    }\n",
       "\n",
       "    .dataframe tbody tr th {\n",
       "        vertical-align: top;\n",
       "    }\n",
       "\n",
       "    .dataframe thead th {\n",
       "        text-align: right;\n",
       "    }\n",
       "</style>\n",
       "<table border=\"1\" class=\"dataframe\">\n",
       "  <thead>\n",
       "    <tr style=\"text-align: right;\">\n",
       "      <th></th>\n",
       "      <th>artist</th>\n",
       "      <th>songname</th>\n",
       "      <th>songlink</th>\n",
       "      <th>lyric</th>\n",
       "      <th>language</th>\n",
       "      <th>cleaned_lyric</th>\n",
       "    </tr>\n",
       "  </thead>\n",
       "  <tbody>\n",
       "    <tr>\n",
       "      <th>0</th>\n",
       "      <td>50 cent</td>\n",
       "      <td>In da Club</td>\n",
       "      <td>/50-cent/in-da-club.html</td>\n",
       "      <td>go, go, go, go\\ngo, go, go shawty\\nit's your b...</td>\n",
       "      <td>en</td>\n",
       "      <td>go go go go go go go shawty it s your birthday...</td>\n",
       "    </tr>\n",
       "    <tr>\n",
       "      <th>1</th>\n",
       "      <td>50 cent</td>\n",
       "      <td>21 Questions</td>\n",
       "      <td>/50-cent/21-questions.html</td>\n",
       "      <td>new york city!\\nyou are now rapping...with 50 ...</td>\n",
       "      <td>en</td>\n",
       "      <td>new york city you are now rapping with 50 cent...</td>\n",
       "    </tr>\n",
       "    <tr>\n",
       "      <th>2</th>\n",
       "      <td>50 cent</td>\n",
       "      <td>P.I.M.P.</td>\n",
       "      <td>/50-cent/p-i-m-p.html</td>\n",
       "      <td>i don't know what you heard about me\\nbut a b*...</td>\n",
       "      <td>en</td>\n",
       "      <td>i don t know what you heard about me but a b c...</td>\n",
       "    </tr>\n",
       "    <tr>\n",
       "      <th>3</th>\n",
       "      <td>50 cent</td>\n",
       "      <td>Many Men (Wish Death)</td>\n",
       "      <td>/50-cent/many-men-wish-death.html</td>\n",
       "      <td>man we gotta go get something to eat man\\ni'm ...</td>\n",
       "      <td>en</td>\n",
       "      <td>man we gotta go get something to eat man i m h...</td>\n",
       "    </tr>\n",
       "    <tr>\n",
       "      <th>4</th>\n",
       "      <td>50 cent</td>\n",
       "      <td>Candy Shop</td>\n",
       "      <td>/50-cent/candy-shop.html</td>\n",
       "      <td>yeah...\\nuh huh\\nso seductive\\ni'll take you t...</td>\n",
       "      <td>en</td>\n",
       "      <td>yeah uh huh so seductive i ll take you to the ...</td>\n",
       "    </tr>\n",
       "    <tr>\n",
       "      <th>...</th>\n",
       "      <td>...</td>\n",
       "      <td>...</td>\n",
       "      <td>...</td>\n",
       "      <td>...</td>\n",
       "      <td>...</td>\n",
       "      <td>...</td>\n",
       "    </tr>\n",
       "    <tr>\n",
       "      <th>13942</th>\n",
       "      <td>barry manilow</td>\n",
       "      <td>You Oughta Be Home With Me</td>\n",
       "      <td>/barry-manilow/you-oughta-be-home-with-me.html</td>\n",
       "      <td>everybody's here, spinnin' the bottle\\neverybo...</td>\n",
       "      <td>en</td>\n",
       "      <td>everybody s here spinnin the bottle everybody ...</td>\n",
       "    </tr>\n",
       "    <tr>\n",
       "      <th>13943</th>\n",
       "      <td>barry manilow</td>\n",
       "      <td>You're Leaving Too Soon</td>\n",
       "      <td>/barry-manilow/youre-leaving-too-soon.html</td>\n",
       "      <td>you're leavin' too soon\\nyou oughta try believ...</td>\n",
       "      <td>en</td>\n",
       "      <td>you re leavin too soon you oughta try believin...</td>\n",
       "    </tr>\n",
       "    <tr>\n",
       "      <th>13944</th>\n",
       "      <td>barry manilow</td>\n",
       "      <td>You're Looking Hot Tonight</td>\n",
       "      <td>/barry-manilow/youre-looking-hot-tonight.html</td>\n",
       "      <td>you're looking hot tonight\\nbarry manilow\\nby:...</td>\n",
       "      <td>en</td>\n",
       "      <td>you re looking hot tonight barry manilow by 1a...</td>\n",
       "    </tr>\n",
       "    <tr>\n",
       "      <th>13945</th>\n",
       "      <td>barry manilow</td>\n",
       "      <td>You're There</td>\n",
       "      <td>/barry-manilow/youre-there.html</td>\n",
       "      <td>our friends all use the past tense when they s...</td>\n",
       "      <td>en</td>\n",
       "      <td>our friend all use the past tense when they sp...</td>\n",
       "    </tr>\n",
       "    <tr>\n",
       "      <th>13946</th>\n",
       "      <td>barry manilow</td>\n",
       "      <td>Young At Heart</td>\n",
       "      <td>/barry-manilow/young-at-heart.html</td>\n",
       "      <td>fairy tales can come true, it can happen to yo...</td>\n",
       "      <td>en</td>\n",
       "      <td>fairy tale can come true it can happen to you ...</td>\n",
       "    </tr>\n",
       "  </tbody>\n",
       "</table>\n",
       "<p>13947 rows × 6 columns</p>\n",
       "</div>"
      ],
      "text/plain": [
       "              artist                    songname  \\\n",
       "0            50 cent                  In da Club   \n",
       "1            50 cent                21 Questions   \n",
       "2            50 cent                    P.I.M.P.   \n",
       "3            50 cent       Many Men (Wish Death)   \n",
       "4            50 cent                  Candy Shop   \n",
       "...              ...                         ...   \n",
       "13942  barry manilow  You Oughta Be Home With Me   \n",
       "13943  barry manilow     You're Leaving Too Soon   \n",
       "13944  barry manilow  You're Looking Hot Tonight   \n",
       "13945  barry manilow                You're There   \n",
       "13946  barry manilow              Young At Heart   \n",
       "\n",
       "                                             songlink  \\\n",
       "0                            /50-cent/in-da-club.html   \n",
       "1                          /50-cent/21-questions.html   \n",
       "2                               /50-cent/p-i-m-p.html   \n",
       "3                   /50-cent/many-men-wish-death.html   \n",
       "4                            /50-cent/candy-shop.html   \n",
       "...                                               ...   \n",
       "13942  /barry-manilow/you-oughta-be-home-with-me.html   \n",
       "13943      /barry-manilow/youre-leaving-too-soon.html   \n",
       "13944   /barry-manilow/youre-looking-hot-tonight.html   \n",
       "13945                 /barry-manilow/youre-there.html   \n",
       "13946              /barry-manilow/young-at-heart.html   \n",
       "\n",
       "                                                   lyric language  \\\n",
       "0      go, go, go, go\\ngo, go, go shawty\\nit's your b...       en   \n",
       "1      new york city!\\nyou are now rapping...with 50 ...       en   \n",
       "2      i don't know what you heard about me\\nbut a b*...       en   \n",
       "3      man we gotta go get something to eat man\\ni'm ...       en   \n",
       "4      yeah...\\nuh huh\\nso seductive\\ni'll take you t...       en   \n",
       "...                                                  ...      ...   \n",
       "13942  everybody's here, spinnin' the bottle\\neverybo...       en   \n",
       "13943  you're leavin' too soon\\nyou oughta try believ...       en   \n",
       "13944  you're looking hot tonight\\nbarry manilow\\nby:...       en   \n",
       "13945  our friends all use the past tense when they s...       en   \n",
       "13946  fairy tales can come true, it can happen to yo...       en   \n",
       "\n",
       "                                           cleaned_lyric  \n",
       "0      go go go go go go go shawty it s your birthday...  \n",
       "1      new york city you are now rapping with 50 cent...  \n",
       "2      i don t know what you heard about me but a b c...  \n",
       "3      man we gotta go get something to eat man i m h...  \n",
       "4      yeah uh huh so seductive i ll take you to the ...  \n",
       "...                                                  ...  \n",
       "13942  everybody s here spinnin the bottle everybody ...  \n",
       "13943  you re leavin too soon you oughta try believin...  \n",
       "13944  you re looking hot tonight barry manilow by 1a...  \n",
       "13945  our friend all use the past tense when they sp...  \n",
       "13946  fairy tale can come true it can happen to you ...  \n",
       "\n",
       "[13947 rows x 6 columns]"
      ]
     },
     "execution_count": 31,
     "metadata": {},
     "output_type": "execute_result"
    }
   ],
   "source": [
    "data = df_en\n",
    "data"
   ]
  },
  {
   "cell_type": "markdown",
   "metadata": {
    "id": "t_R-CQrMH6pN"
   },
   "source": [
    "As discussed above, although we have a cleaned version of lyrics, we would like to export a version for the orginal lyrics for the generative model as it's character-based. We would like the model to learn the patterns of the orginal lyrics."
   ]
  },
  {
   "cell_type": "code",
   "execution_count": 32,
   "metadata": {
    "colab": {
     "base_uri": "https://localhost:8080/",
     "height": 240
    },
    "id": "qivP8jrbcbVg",
    "outputId": "a34105cd-f1df-4ca2-a04e-d0e8b0b36536"
   },
   "outputs": [
    {
     "name": "stdout",
     "output_type": "stream",
     "text": [
      "32\n"
     ]
    }
   ],
   "source": [
    "# Get the top n most common names\n",
    "top_artist = US_top.index\n",
    "print(len(top_artist))\n",
    "top_artist = ['frank sinatra', 'elvis presley', 'dolly parton', 'lil wayne',\n",
    "       'chris brown', 'guided by voices', 'prince', 'johnny cash', 'bob dylan',\n",
    "       'george jones', 'neil young', 'bruce springsteen', 'snoop dogg',\n",
    "       'eminem', '50 cent', 'roy orbison', 'ella fitzgerald', 'taylor swift',\n",
    "       'waylon jennings', '2pac tupac shakur', 'bb king', 'bon jovi',\n",
    "       'george strait', 'madonna', 'diana ross', 'bill monroe', 'beach boys',\n",
    "       'barry manilow', 'alice cooper', 'nas', 'ray charles', 'beck']"
   ]
  },
  {
   "cell_type": "code",
   "execution_count": 34,
   "metadata": {
    "colab": {
     "base_uri": "https://localhost:8080/"
    },
    "id": "8WcDq_uIVFFY",
    "outputId": "66595b71-6e31-4ac5-dcf8-ff29cd3fcd99"
   },
   "outputs": [
    {
     "name": "stdout",
     "output_type": "stream",
     "text": [
      "13947\n"
     ]
    }
   ],
   "source": [
    "# Filter the dataframe by the top artists\n",
    "data_topUS = data[data['artist'].isin(top_artist)]\n",
    "print(len(data_topUS))\n"
   ]
  },
  {
   "cell_type": "code",
   "execution_count": 35,
   "metadata": {
    "id": "OeWuniR7WU9S"
   },
   "outputs": [],
   "source": [
    "# export the 'lyric' column to a text file\n",
    "data_topUS['lyric'].to_csv('NN_Test_Data/topUS32.txt', header=False, index=False)"
   ]
  },
  {
   "cell_type": "markdown",
   "metadata": {},
   "source": [
    "### Extract the text file for original lyrics"
   ]
  },
  {
   "cell_type": "code",
   "execution_count": 36,
   "metadata": {
    "id": "GQdxMZJM2NmH"
   },
   "outputs": [],
   "source": [
    "def extract_artist(data,artist_name):\n",
    "    df_artist = data[data.artist == artist_name]\n",
    "    df_artist['lyric'].to_csv('NN_Test_Data/{}.txt'.format(artist_name),mode='w',header=False, index=False)\n",
    "\n"
   ]
  },
  {
   "cell_type": "code",
   "execution_count": 37,
   "metadata": {
    "id": "yVafJRB63Rt9"
   },
   "outputs": [],
   "source": [
    "for artist in top_artist:\n",
    "    extract_artist(data,artist)"
   ]
  }
 ],
 "metadata": {
  "accelerator": "GPU",
  "colab": {
   "provenance": [],
   "toc_visible": true
  },
  "gpuClass": "standard",
  "kernelspec": {
   "display_name": "Python 3 (ipykernel)",
   "language": "python",
   "name": "python3"
  },
  "language_info": {
   "codemirror_mode": {
    "name": "ipython",
    "version": 3
   },
   "file_extension": ".py",
   "mimetype": "text/x-python",
   "name": "python",
   "nbconvert_exporter": "python",
   "pygments_lexer": "ipython3",
   "version": "3.10.9"
  },
  "widgets": {
   "application/vnd.jupyter.widget-state+json": {
    "260482ae30c946fcbed93d015c6fb8c7": {
     "model_module": "@jupyter-widgets/base",
     "model_module_version": "1.2.0",
     "model_name": "LayoutModel",
     "state": {
      "_model_module": "@jupyter-widgets/base",
      "_model_module_version": "1.2.0",
      "_model_name": "LayoutModel",
      "_view_count": null,
      "_view_module": "@jupyter-widgets/base",
      "_view_module_version": "1.2.0",
      "_view_name": "LayoutView",
      "align_content": null,
      "align_items": null,
      "align_self": null,
      "border": null,
      "bottom": null,
      "display": null,
      "flex": null,
      "flex_flow": null,
      "grid_area": null,
      "grid_auto_columns": null,
      "grid_auto_flow": null,
      "grid_auto_rows": null,
      "grid_column": null,
      "grid_gap": null,
      "grid_row": null,
      "grid_template_areas": null,
      "grid_template_columns": null,
      "grid_template_rows": null,
      "height": null,
      "justify_content": null,
      "justify_items": null,
      "left": null,
      "margin": null,
      "max_height": null,
      "max_width": null,
      "min_height": null,
      "min_width": null,
      "object_fit": null,
      "object_position": null,
      "order": null,
      "overflow": null,
      "overflow_x": null,
      "overflow_y": null,
      "padding": null,
      "right": null,
      "top": null,
      "visibility": null,
      "width": null
     }
    },
    "9edbd4ef5b504769a2f5c2ea58972062": {
     "model_module": "@jupyter-widgets/controls",
     "model_module_version": "1.5.0",
     "model_name": "DropdownModel",
     "state": {
      "_dom_classes": [],
      "_model_module": "@jupyter-widgets/controls",
      "_model_module_version": "1.5.0",
      "_model_name": "DropdownModel",
      "_options_labels": [
       "frank sinatra",
       "elvis presley",
       "dolly parton",
       "lil wayne",
       "chris brown",
       "guided by voices",
       "prince",
       "johnny cash",
       "bob dylan",
       "george jones",
       "neil young",
       "bruce springsteen",
       "snoop dogg",
       "eminem",
       "50 cent",
       "roy orbison",
       "ella fitzgerald",
       "taylor swift",
       "waylon jennings",
       "2pac tupac shakur",
       "bb king",
       "bon jovi",
       "george strait",
       "madonna",
       "diana ross",
       "bill monroe",
       "beach boys",
       "barry manilow",
       "alice cooper",
       "nas",
       "ray charles",
       "beck"
      ],
      "_view_count": null,
      "_view_module": "@jupyter-widgets/controls",
      "_view_module_version": "1.5.0",
      "_view_name": "DropdownView",
      "description": "Select artist:",
      "description_tooltip": null,
      "disabled": false,
      "index": 17,
      "layout": "IPY_MODEL_260482ae30c946fcbed93d015c6fb8c7",
      "style": "IPY_MODEL_db0a4257606244e78653718a73f94d30"
     }
    },
    "db0a4257606244e78653718a73f94d30": {
     "model_module": "@jupyter-widgets/controls",
     "model_module_version": "1.5.0",
     "model_name": "DescriptionStyleModel",
     "state": {
      "_model_module": "@jupyter-widgets/controls",
      "_model_module_version": "1.5.0",
      "_model_name": "DescriptionStyleModel",
      "_view_count": null,
      "_view_module": "@jupyter-widgets/base",
      "_view_module_version": "1.2.0",
      "_view_name": "StyleView",
      "description_width": ""
     }
    }
   }
  }
 },
 "nbformat": 4,
 "nbformat_minor": 4
}
